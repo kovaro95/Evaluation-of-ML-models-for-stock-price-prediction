{
 "cells": [
  {
   "cell_type": "code",
   "execution_count": 1,
   "metadata": {},
   "outputs": [],
   "source": [
    "import LSTM_train\r\n",
    "import UpdateStockPrices\r\n",
    "\r\n",
    "import datetime\r\n",
    "import numpy as np\r\n",
    "import pandas as pd\r\n",
    "from io import StringIO\r\n",
    "\r\n",
    "import os\r\n",
    "import joblib\r\n",
    "\r\n",
    "import tensorflow as tf\r\n",
    "from sklearn.preprocessing import MinMaxScaler\r\n",
    "\r\n",
    "import psycopg2"
   ]
  },
  {
   "cell_type": "code",
   "execution_count": 2,
   "metadata": {},
   "outputs": [],
   "source": [
    "def Create_tensor(data):\r\n",
    "    tensor=np.asarray(data)\r\n",
    "    tensor=tensor.reshape(1,tensor.shape[0],1)\r\n",
    "    return np.asarray(tensor,dtype=object).astype(np.float)"
   ]
  },
  {
   "cell_type": "code",
   "execution_count": 3,
   "metadata": {},
   "outputs": [],
   "source": [
    "def Connect():\r\n",
    "    connection = psycopg2.connect(user=\"postgres\",\r\n",
    "        password=\"adminpw\",\r\n",
    "        host=\"127.0.0.1\",\r\n",
    "        port=\"5432\",\r\n",
    "        database=\"Thesis\")\r\n",
    "    curr = connection.cursor()\r\n",
    "    return connection, curr"
   ]
  },
  {
   "cell_type": "code",
   "execution_count": 4,
   "metadata": {},
   "outputs": [
    {
     "name": "stdout",
     "output_type": "stream",
     "text": [
      "[*********************100%***********************]  7 of 7 completed\n"
     ]
    },
    {
     "data": {
      "text/plain": "'No new data is available to update table'"
     },
     "execution_count": 4,
     "metadata": {},
     "output_type": "execute_result"
    }
   ],
   "source": [
    "UpdateStockPrices.Update_databases()"
   ]
  },
  {
   "cell_type": "code",
   "execution_count": 5,
   "metadata": {},
   "outputs": [],
   "source": [
    "connection, curr =Connect()\r\n",
    "sql='SELECT * FROM stockprices'\r\n",
    "stocks=pd.read_sql_query(sql,connection)\r\n",
    "connection.close()\r\n",
    "curr.close()"
   ]
  },
  {
   "cell_type": "code",
   "execution_count": 7,
   "metadata": {},
   "outputs": [],
   "source": [
    "stock_date=stocks.iloc[-1,0]  \r\n",
    "with open('../../Models/trained.txt','r') as f:\r\n",
    "    last_date=f.read()\r\n",
    "    if last_date!=stock_date.strftime('%d-%m-%Y'):\r\n",
    "        NEEDS_UPDATE=True\r\n",
    "    else:\r\n",
    "        NEEDS_UPDATE=False"
   ]
  },
  {
   "cell_type": "code",
   "execution_count": null,
   "metadata": {},
   "outputs": [],
   "source": [
    "if NEEDS_UPDATE==True:\r\n",
    "    for col in stocks.columns:\r\n",
    "        if col=='date':\r\n",
    "            continue\r\n",
    "        LSTM_train.Start_training(col)\r\n",
    "        \r\n",
    "    with open('../../Models/trained.txt','w') as f:\r\n",
    "        trained_date=stocks.iloc[-1,0]   \r\n",
    "        f.write(trained_date.strftime('%d-%m-%Y'))"
   ]
  },
  {
   "cell_type": "code",
   "execution_count": 10,
   "metadata": {},
   "outputs": [],
   "source": [
    "connection, curr =Connect()\r\n",
    "curr.execute('SELECT max(last_observed_date) FROM predictions')\r\n",
    "maxdate=np.squeeze(curr.fetchall())\r\n",
    "if maxdate==stock_date:\r\n",
    "    PREDICTION_NEEDED=False\r\n",
    "else:   \r\n",
    "    PREDICTION_NEEDED=True\r\n",
    "connection.close()\r\n",
    "curr.close()"
   ]
  },
  {
   "cell_type": "code",
   "execution_count": 11,
   "metadata": {},
   "outputs": [],
   "source": [
    "sql=f'SELECT * FROM stockprices order by date desc limit 60'"
   ]
  },
  {
   "cell_type": "code",
   "execution_count": 12,
   "metadata": {},
   "outputs": [],
   "source": [
    "connection, curr =Connect()\r\n",
    "df = pd.read_sql_query(sql,connection)\r\n",
    "connection.close()\r\n",
    "curr.close()"
   ]
  },
  {
   "cell_type": "code",
   "execution_count": 19,
   "metadata": {},
   "outputs": [],
   "source": [
    "dates=pd.date_range(stock_date+datetime.timedelta(days=1),stock_date+datetime.timedelta(days=9))"
   ]
  },
  {
   "cell_type": "code",
   "execution_count": 13,
   "metadata": {},
   "outputs": [],
   "source": [
    "cols=[columns for columns in stocks.columns if columns!='date']\r\n",
    "preds_dict=dict((col, [0]) for col in cols)"
   ]
  },
  {
   "cell_type": "code",
   "execution_count": null,
   "metadata": {},
   "outputs": [],
   "source": [
    "Scaler=MinMaxScaler(feature_range = (-1, 1))\r\n",
    "tf.get_logger().setLevel(0)\r\n",
    "for symbol in stocks.columns:\r\n",
    "    if symbol!='date':\r\n",
    "        with open(f'..\\..\\Data\\Weights\\{symbol}_opt_weight.txt','r') as f:\r\n",
    "            lines=(line.rstrip() for line in f) \r\n",
    "            opt_weights=list(line for line in lines if line)\r\n",
    "            opt_weights=np.array(opt_weights).astype(np.float)\r\n",
    "            \r\n",
    "\r\n",
    "        #Scaler = joblib.load(f'../../Data/Scaler/{symbol}_scaler.save') \r\n",
    "           \r\n",
    "        default_model=tf.keras.models.load_model(f'..\\..\\Models\\Default LSTM\\{symbol}') \r\n",
    "        base_model=tf.keras.models.load_model(f'..\\..\\Models\\Base LSTM\\{symbol}') \r\n",
    "        gelu_model=tf.keras.models.load_model(f'..\\..\\Models\\Gelu LSTM\\{symbol}') \r\n",
    "        swish_model=tf.keras.models.load_model(f'..\\..\\Models\\Swish LSTM\\{symbol}') \r\n",
    "            \r\n",
    "        hist_list=list(df[symbol])   \r\n",
    "        Scaler=Scaler.fit(np.array(hist_list).reshape(-1,1))  \r\n",
    "        hist_list=list(np.array(hist_list).reshape(-1,1))    \r\n",
    "        for i in range(9):             \r\n",
    "            hist=Create_tensor(hist_list[-60:])\r\n",
    "            preds=[default_model.predict(hist),base_model.predict(hist),gelu_model.predict(hist),swish_model.predict(hist)]\r\n",
    "            pred_scaled=opt_weights.dot(np.squeeze(preds)).reshape(-1,1)\r\n",
    "            preds_dict[symbol].append(np.squeeze(Scaler.inverse_transform(pred_scaled)[0]))\r\n",
    "            hist_list.append(pred_scaled)\r\n",
    "            \r\n",
    "        final_preds=Scaler.inverse_transform(np.array(hist_list).reshape(-1,1))"
   ]
  },
  {
   "cell_type": "code",
   "execution_count": 20,
   "metadata": {},
   "outputs": [],
   "source": [
    "result=pd.DataFrame.from_dict(preds_dict)[1:]"
   ]
  },
  {
   "cell_type": "code",
   "execution_count": 21,
   "metadata": {},
   "outputs": [],
   "source": [
    "result['last_observed_date']=stock_date\r\n",
    "result['date']=dates.strftime('%Y-%m-%d')"
   ]
  },
  {
   "cell_type": "code",
   "execution_count": 22,
   "metadata": {},
   "outputs": [
    {
     "data": {
      "text/html": "<div>\n<style scoped>\n    .dataframe tbody tr th:only-of-type {\n        vertical-align: middle;\n    }\n\n    .dataframe tbody tr th {\n        vertical-align: top;\n    }\n\n    .dataframe thead th {\n        text-align: right;\n    }\n</style>\n<table border=\"1\" class=\"dataframe\">\n  <thead>\n    <tr style=\"text-align: right;\">\n      <th></th>\n      <th>spy</th>\n      <th>gme</th>\n      <th>jpm</th>\n      <th>t</th>\n      <th>msft</th>\n      <th>goog</th>\n      <th>aapl</th>\n      <th>last_observed_date</th>\n      <th>date</th>\n    </tr>\n  </thead>\n  <tbody>\n    <tr>\n      <th>1</th>\n      <td>414.22463585347134</td>\n      <td>246.22255703074555</td>\n      <td>163.19365701008041</td>\n      <td>35.009929185344255</td>\n      <td>245.597501120185</td>\n      <td>2347.9344600578033</td>\n      <td>125.33275667448582</td>\n      <td>2021-05-20</td>\n      <td>2021-05-21</td>\n    </tr>\n    <tr>\n      <th>2</th>\n      <td>414.86778983091153</td>\n      <td>285.14460742287383</td>\n      <td>161.9736652130453</td>\n      <td>35.0891972929884</td>\n      <td>254.46679605503118</td>\n      <td>2250.3906877389322</td>\n      <td>125.93047097230465</td>\n      <td>2021-05-20</td>\n      <td>2021-05-22</td>\n    </tr>\n    <tr>\n      <th>3</th>\n      <td>415.8337437163599</td>\n      <td>227.8537850927552</td>\n      <td>164.350316242404</td>\n      <td>35.202885346440674</td>\n      <td>263.6277491690506</td>\n      <td>2242.7035013911905</td>\n      <td>134.2730032686834</td>\n      <td>2021-05-20</td>\n      <td>2021-05-23</td>\n    </tr>\n    <tr>\n      <th>4</th>\n      <td>416.0096032989988</td>\n      <td>260.82521132208626</td>\n      <td>164.05133344119415</td>\n      <td>35.25118724290369</td>\n      <td>250.46466400752922</td>\n      <td>2274.2513341884</td>\n      <td>132.0084754951178</td>\n      <td>2021-05-20</td>\n      <td>2021-05-24</td>\n    </tr>\n    <tr>\n      <th>5</th>\n      <td>417.17763867687586</td>\n      <td>231.27301690678865</td>\n      <td>163.1428793144608</td>\n      <td>35.28366750977193</td>\n      <td>250.65050928000394</td>\n      <td>2486.060124557408</td>\n      <td>128.94257645318496</td>\n      <td>2021-05-20</td>\n      <td>2021-05-25</td>\n    </tr>\n    <tr>\n      <th>6</th>\n      <td>417.52461851735023</td>\n      <td>245.85679354795178</td>\n      <td>165.45002833525277</td>\n      <td>35.30141188754623</td>\n      <td>250.69405820468123</td>\n      <td>2353.9072959216564</td>\n      <td>136.4917290606769</td>\n      <td>2021-05-20</td>\n      <td>2021-05-26</td>\n    </tr>\n    <tr>\n      <th>7</th>\n      <td>418.46908615264914</td>\n      <td>273.40068470541866</td>\n      <td>164.14752441039013</td>\n      <td>35.28257644464265</td>\n      <td>259.69765173380796</td>\n      <td>2362.6449586889426</td>\n      <td>125.32516122019963</td>\n      <td>2021-05-20</td>\n      <td>2021-05-27</td>\n    </tr>\n    <tr>\n      <th>8</th>\n      <td>418.5218644822058</td>\n      <td>200.0180830118471</td>\n      <td>163.2176348458726</td>\n      <td>35.248743274750744</td>\n      <td>254.39047668338497</td>\n      <td>2362.8401835758773</td>\n      <td>125.63577829726016</td>\n      <td>2021-05-20</td>\n      <td>2021-05-28</td>\n    </tr>\n    <tr>\n      <th>9</th>\n      <td>421.21673653292504</td>\n      <td>313.6917317953006</td>\n      <td>162.00949999187182</td>\n      <td>35.20669710406408</td>\n      <td>250.7375658954055</td>\n      <td>2270.1756783984897</td>\n      <td>125.92390249550924</td>\n      <td>2021-05-20</td>\n      <td>2021-05-29</td>\n    </tr>\n  </tbody>\n</table>\n</div>",
      "text/plain": "                  spy                 gme                 jpm  \\\n1  414.22463585347134  246.22255703074555  163.19365701008041   \n2  414.86778983091153  285.14460742287383   161.9736652130453   \n3   415.8337437163599   227.8537850927552    164.350316242404   \n4   416.0096032989988  260.82521132208626  164.05133344119415   \n5  417.17763867687586  231.27301690678865   163.1428793144608   \n6  417.52461851735023  245.85679354795178  165.45002833525277   \n7  418.46908615264914  273.40068470541866  164.14752441039013   \n8   418.5218644822058   200.0180830118471   163.2176348458726   \n9  421.21673653292504   313.6917317953006  162.00949999187182   \n\n                    t                msft                goog  \\\n1  35.009929185344255    245.597501120185  2347.9344600578033   \n2    35.0891972929884  254.46679605503118  2250.3906877389322   \n3  35.202885346440674   263.6277491690506  2242.7035013911905   \n4   35.25118724290369  250.46466400752922     2274.2513341884   \n5   35.28366750977193  250.65050928000394   2486.060124557408   \n6   35.30141188754623  250.69405820468123  2353.9072959216564   \n7   35.28257644464265  259.69765173380796  2362.6449586889426   \n8  35.248743274750744  254.39047668338497  2362.8401835758773   \n9   35.20669710406408   250.7375658954055  2270.1756783984897   \n\n                 aapl last_observed_date        date  \n1  125.33275667448582         2021-05-20  2021-05-21  \n2  125.93047097230465         2021-05-20  2021-05-22  \n3   134.2730032686834         2021-05-20  2021-05-23  \n4   132.0084754951178         2021-05-20  2021-05-24  \n5  128.94257645318496         2021-05-20  2021-05-25  \n6   136.4917290606769         2021-05-20  2021-05-26  \n7  125.32516122019963         2021-05-20  2021-05-27  \n8  125.63577829726016         2021-05-20  2021-05-28  \n9  125.92390249550924         2021-05-20  2021-05-29  "
     },
     "execution_count": 22,
     "metadata": {},
     "output_type": "execute_result"
    }
   ],
   "source": [
    "result"
   ]
  },
  {
   "cell_type": "code",
   "execution_count": 23,
   "metadata": {},
   "outputs": [],
   "source": [
    "sio = StringIO()\r\n",
    "sio.write(result.to_csv(index=None, header=None))\r\n",
    "sio.seek(0)\r\n",
    "connection, curr =Connect()   \r\n",
    "with curr as c:\r\n",
    "    c.copy_from(sio, \"predictions\", columns=result.columns, sep=',')\r\n",
    "    connection.commit()\r\n",
    "    "
   ]
  },
  {
   "cell_type": "code",
   "execution_count": 24,
   "metadata": {},
   "outputs": [],
   "source": [
    "for symbol in stocks.columns:\r\n",
    "    if symbol!='date': \r\n",
    "        connection, curr =Connect()  \r\n",
    "        curr.execute(f'DELETE FROM {symbol}')\r\n",
    "        \r\n",
    "        sym_df=pd.read_json(r'..\\..\\Data\\Models\\\\' + symbol + '.json')\r\n",
    "        sio = StringIO()\r\n",
    "        sio.write(sym_df.to_csv(index=None, header=None))\r\n",
    "        sio.seek(0)\r\n",
    "        with curr as c:\r\n",
    "            c.copy_from(sio, symbol, columns=sym_df.columns, sep=',')\r\n",
    "            connection.commit()   \r\n",
    "             \r\n",
    "connection.close()\r\n",
    "curr.close()"
   ]
  }
 ],
 "metadata": {
  "kernelspec": {
   "display_name": "Python 3.8.7 64-bit",
   "name": "python387jvsc74a57bd095ab7303ed2746327945aa376054eddca8c4eca362915ff95db932dbe7e7ee41"
  },
  "language_info": {
   "name": "python",
   "version": ""
  },
  "orig_nbformat": 2
 },
 "nbformat": 4,
 "nbformat_minor": 2
}
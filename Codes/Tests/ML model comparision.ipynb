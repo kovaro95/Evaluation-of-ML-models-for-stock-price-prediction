{
  "cells": [
    {
      "cell_type": "code",
      "execution_count": null,
      "metadata": {
        "colab": {
          "base_uri": "https://localhost:8080/"
        },
        "id": "d9w1RXOBFtuq",
        "outputId": "17c7c80d-bd10-4949-a4b1-0c9b3b0bfbbd"
      },
      "outputs": [],
      "source": [
        "import pandas as pd \r\n",
        "import numpy as np\r\n",
        "from pandas_datareader import data as pdr\r\n",
        "\r\n",
        "import yfinance as yf #yahoo finance stock data\r\n",
        "import datetime\r\n",
        "import matplotlib\r\n",
        "import matplotlib.pyplot as plt\r\n",
        "from math import sqrt\r\n",
        "\r\n",
        "import tensorflow as tf\r\n",
        "from tensorflow import keras\r\n",
        "\r\n",
        "from sklearn.linear_model import LinearRegression,ElasticNet\r\n",
        "from sklearn.ensemble import RandomForestRegressor\r\n",
        "from sklearn.preprocessing import StandardScaler\r\n",
        "from sklearn.tree import export_graphviz\r\n",
        "from sklearn import tree\r\n",
        "\r\n",
        "from keras.models import Sequential\r\n",
        "from keras.layers import Activation,Dropout,Dense,LSTM,BatchNormalization\r\n",
        "\r\n",
        "stock=\"^GSPC\""
      ]
    },
    {
      "cell_type": "code",
      "execution_count": null,
      "metadata": {
        "colab": {
          "base_uri": "https://localhost:8080/"
        },
        "id": "I-gUmUzFOj0G",
        "outputId": "84dee8b7-6a91-40e9-8844-b27d91b97f3d"
      },
      "outputs": [],
      "source": [
        "min_=yf.download(tickers=stock,period=\"3d\",interval=\"1m\")\r\n",
        "thirt_min=yf.download(tickers=stock,period=\"60d\", interval=\"30m\")\r\n",
        "hour=yf.download(tickers=stock,period=\"150d\",interval=\"1h\")\r\n",
        "daily=yf.download(tickers=stock,period=\"1000d\",interval=\"1d\")\r\n",
        "weekly=yf.download(tickers=stock,period=\"3800d\",interval=\"1wk\")"
      ]
    },
    {
      "cell_type": "code",
      "execution_count": null,
      "metadata": {
        "id": "UTBpXURtFtuw"
      },
      "outputs": [],
      "source": [
        "def Prepare_dataset(df,data_size=255,forecast_window=1):\r\n",
        "    from sklearn.model_selection import train_test_split\r\n",
        "\r\n",
        "    df.dropna(inplace=True,how=\"all\",axis=0)\r\n",
        "    df.fillna(inplace=True,method=\"ffill\")\r\n",
        "    df=df.iloc[-data_size:]\r\n",
        "    y=df.shift(-forecast_window).iloc[:-forecast_window,3].values\r\n",
        "    X=df.drop(\"Adj Close\",1)\r\n",
        "    X=X.iloc[:-forecast_window,:]\r\n",
        "    return train_test_split(X, y, test_size=0.2, random_state=0,shuffle=False)\r\n",
        "\r\n",
        "def Mape(y,y_pred):\r\n",
        "    mape=np.mean(np.abs((y-y_pred)/y))\r\n",
        "    return \"{:.2%}\".format(mape)\r\n",
        "\r\n",
        "def Rmse(y,y_pred):\r\n",
        "    MSE = np.square(np.subtract(y,y_pred)).mean() \r\n",
        "    return sqrt(MSE)\r\n",
        "\r\n",
        "def normalize(data):\r\n",
        "    data_mean = data.mean(axis=0)\r\n",
        "    data_std = data.std(axis=0)\r\n",
        "    return (data - data_mean) / data_std\r\n",
        "\r\n",
        "\r\n",
        "def Arima_build(ts_train,ts_test):\r\n",
        "  global arima_model\r\n",
        "  def arimamodel(timeseriesarray):\r\n",
        "    import pmdarima as pmd\r\n",
        "    autoarima_model = pmd.auto_arima(timeseriesarray, \r\n",
        "                              start_p=1,d=1,start_q=0, start_P=0,D=1, start_Q=0,\r\n",
        "                              max_p=5,max_d=5,max_q=5, max_P=5,max_D=5,max_Q=5, \r\n",
        "                              m=12, seasonal=True,error_action='warn',trace=True,\r\n",
        "                              supress_warnings=True,stepwise=True,\r\n",
        "                              random_state=123,n_fits=10)\r\n",
        "    return autoarima_model\r\n",
        "\r\n",
        "  arima_model = arimamodel(ts_train)\r\n",
        "  preds=arima_model.predict(len(ts_test))\r\n",
        "  return preds\r\n",
        "\r\n",
        "def plot_history(history):\r\n",
        "    hist=pd.DataFrame(history.history)\r\n",
        "    hist[\"epoch\"]=history.epoch\r\n",
        "\r\n",
        "    plt.figure()\r\n",
        "    plt.xlabel(\"Epoch\")\r\n",
        "    plt.ylabel(\"Mean Abs Error\")\r\n",
        "    plt.plot(hist.epoch,hist.mae,label=\"Train error\")\r\n",
        "    plt.plot(hist.epoch,hist.val_mae,label=\"Val error\")\r\n",
        "    plt.legend()\r\n",
        "    plt.ylim([0,hist.mae.max()])\r\n",
        "\r\n",
        "def Build_lstm(X_train,X_test,y_train,scale=True):\r\n",
        "    keras.backend.clear_session()\r\n",
        "    tf.compat.v1.reset_default_graph() \r\n",
        "\r\n",
        "    global lstm_model\r\n",
        "\r\n",
        "    if scale==True:     \r\n",
        "        x_scaler = StandardScaler()\r\n",
        "        X_train=x_scaler.fit_transform(X_train)\r\n",
        "        X_test=x_scaler.transform(X_test)\r\n",
        "        \r\n",
        "    x_train=np.array(X_train).reshape(X_train.shape[0],X_train.shape[1],1)\r\n",
        "    x_test=np.array(X_test).reshape(X_test.shape[0],X_test.shape[1],1)\r\n",
        "\r\n",
        "    lstm_model = Sequential()\r\n",
        "    lstm_model.add(LSTM(64,return_sequences=True))\r\n",
        "    lstm_model.add(LSTM(128,return_sequences=False))\r\n",
        "    lstm_model.add(Dense(units=32))\r\n",
        "    lstm_model.add(Dense(units=1))\r\n",
        "\r\n",
        "\r\n",
        "    lstm_model.compile(loss=\"mse\",optimizer=\"nadam\",metrics=['accuracy'])\r\n",
        "    lstm_model.fit(x_train, np.array(y_train), epochs=1000,verbose=0,batch_size=32)\r\n",
        "    preds=lstm_model.predict(x_test, batch_size=1)\r\n",
        "\r\n",
        "    return preds\r\n",
        "\r\n"
      ]
    },
    {
      "cell_type": "code",
      "execution_count": null,
      "metadata": {
        "id": "HtQ3q5lAFtuz"
      },
      "outputs": [],
      "source": [
        "datasets={}\r\n",
        "datasets[\"1m\"]=Prepare_dataset(min_,forecast_window=1)\r\n",
        "datasets[\"30m\"]=Prepare_dataset(thirt_min,forecast_window=1)\r\n",
        "datasets[\"1h\"]=Prepare_dataset(hour,forecast_window=1)\r\n",
        "datasets[\"D\"]=Prepare_dataset(daily,forecast_window=1)\r\n",
        "datasets[\"W\"]=Prepare_dataset(weekly,forecast_window=1)"
      ]
    },
    {
      "cell_type": "code",
      "execution_count": null,
      "metadata": {
        "colab": {
          "base_uri": "https://localhost:8080/"
        },
        "id": "5Bf8VzDYFtu3",
        "outputId": "b1cc2a3f-fb51-4102-a68e-08ba2dd6d25e",
        "tags": []
      },
      "outputs": [],
      "source": [
        "mape=pd.DataFrame(columns=[\"1m\",\"30m\",\"1h\",\"D\",\"W\"])\r\n",
        "rmse=pd.DataFrame(columns=[\"1m\",\"30m\",\"1h\",\"D\",\"W\"])\r\n",
        "\r\n",
        "arima_models={}\r\n",
        "elastic_nets={}\r\n",
        "rf_models={}\r\n",
        "ltsm_models={}\r\n",
        "\r\n",
        "preds={}\r\n",
        "\r\n",
        "for key in datasets:\r\n",
        "    X_train=datasets[key][0]\r\n",
        "    X_test=datasets[key][1]\r\n",
        "    y_train=datasets[key][2]\r\n",
        "    y_test=datasets[key][3]\r\n",
        "\r\n",
        "    elastic=ElasticNet().fit(X_train, y_train)\r\n",
        "    elastic_preds=elastic.predict(X_test)\r\n",
        "    mape.loc[\"Elastic net\",key]=[Mape(y_test,elastic_preds)]\r\n",
        "    rmse.loc[\"Elastic net\",key]=[Rmse(y_test,elastic_preds)]\r\n",
        "    elastic_nets[key]=elastic\r\n",
        "\r\n",
        "    rf=RandomForestRegressor(n_estimators=100,max_depth=4,random_state=0).fit(X_train, y_train)\r\n",
        "    rf_preds=rf.predict(X_test)\r\n",
        "    mape.loc[\"Random forest\",key]=[Mape(y_test,rf_preds)]\r\n",
        "    rmse.loc[\"Random forest\",key]=[Rmse(y_test,rf_preds)]\r\n",
        "    rf_models[key]=rf\r\n",
        "\r\n",
        "    arima_preds=Arima_build(datasets[key][0][\"Close\"],datasets[key][1][\"Close\"])\r\n",
        "    mape.loc[\"ARIMA\",key]=[Mape(y_test,arima_preds)]\r\n",
        "    rmse.loc[\"ARIMA\",key]=[Rmse(y_test,arima_preds)]\r\n",
        "    arima_models[key]=arima_model\r\n",
        "\r\n",
        "    lstm_preds=Build_lstm(X_train,X_test,y_train) \r\n",
        "    mape.loc[\"LSTM scaled\",key]=[Mape(y_test,lstm_preds)]\r\n",
        "    rmse.loc[\"LSTM scaled\",key]=[Rmse(y_test,lstm_preds)]\r\n",
        "    ltsm_models[key]=lstm_model\r\n",
        "\r\n",
        "    preds[key]=[arima_preds,elastic_preds,rf_preds,lstm_preds]\r\n",
        "\r\n",
        "    print(f\"Model for {key} dataset is done\")"
      ]
    },
    {
      "cell_type": "code",
      "execution_count": null,
      "metadata": {},
      "outputs": [],
      "source": [
        "rmse"
      ]
    },
    {
      "cell_type": "code",
      "execution_count": null,
      "metadata": {},
      "outputs": [],
      "source": [
        "mape"
      ]
    },
    {
      "cell_type": "code",
      "execution_count": null,
      "metadata": {},
      "outputs": [],
      "source": [
        "m=1\r\n",
        "\r\n",
        "matplotlib.rcParams.update(matplotlib.rcParamsDefault)\r\n",
        "\r\n",
        "fig, axs = plt.subplots(3, 2,figsize=(10,10))\r\n",
        "fig.suptitle('Random forest model results')\r\n",
        "\r\n",
        "axs[0, 0].set_title('1 minute prediction')\r\n",
        "axs[0,0].plot(preds['1m'][m], linestyle='dashed',label=\"Pred\")\r\n",
        "axs[0,0].plot(datasets['1m'][3],label=\"True\")\r\n",
        "axs[0,0].legend(loc=\"lower right\")\r\n",
        "\r\n",
        "axs[0, 1].set_title('30 minute prediction')\r\n",
        "axs[0,1].plot(preds['30m'][m], linestyle='dashed',label=\"Pred\")\r\n",
        "axs[0,1].plot(datasets['30m'][3],label=\"True\")\r\n",
        "axs[0,1].legend(loc=\"lower right\")\r\n",
        "\r\n",
        "axs[1, 0].set_title('1 hour prediction')\r\n",
        "axs[1,0].plot(preds['1h'][m], linestyle='dashed',label=\"Pred\")\r\n",
        "axs[1,0].plot(datasets['1h'][3],label=\"True\")\r\n",
        "axs[1,0].legend(loc=\"lower right\")\r\n",
        "\r\n",
        "axs[1, 1].set_title('Daily prediction')\r\n",
        "axs[1,1].plot(preds['D'][m], linestyle='dashed',label=\"Pred\")\r\n",
        "axs[1,1].plot(datasets['D'][3],label=\"True\")\r\n",
        "axs[1,1].legend(loc=\"lower right\")\r\n",
        "\r\n",
        "axs[2, 0].set_title('Weekly prediction')\r\n",
        "axs[2,0].plot(preds['W'][m], linestyle='dashed',label=\"Pred\")\r\n",
        "axs[2,0].plot(datasets['W'][3],label=\"True\")\r\n",
        "axs[2,0].legend(loc=\"lower right\")\r\n",
        "plt.show()"
      ]
    },
    {
      "cell_type": "code",
      "execution_count": null,
      "metadata": {},
      "outputs": [],
      "source": [
        "arima_models"
      ]
    },
    {
      "cell_type": "code",
      "execution_count": null,
      "metadata": {},
      "outputs": [],
      "source": [
        "plot_preds(key):\n",
        "    preds[key][0]"
      ]
    },
    {
      "cell_type": "code",
      "execution_count": null,
      "metadata": {},
      "outputs": [],
      "source": [
        "arima_models[\"1m\"],arima_models[\"30m\"],arima_models[\"1h\"],arima_models[\"D\"],arima_models[\"W\"]"
      ]
    },
    {
      "cell_type": "code",
      "execution_count": null,
      "metadata": {},
      "outputs": [],
      "source": [
        "#train = data[:training_data_len]\n",
        "#valid = data[training_data_len:]\n",
        "#valid['Predictions'] = predictions\n",
        "\n",
        "plt.figure(figsize=(16,8))\n",
        "plt.title('Model')\n",
        "plt.xlabel('Date', fontsize=18)\n",
        "plt.ylabel('Close Price' ,fontsize=18)\n",
        "plt.plot(daily['Close'],linewidth=3.5)\n",
        "#plt.plot(datasets[\"W\"][1].index,preds[\"W\"][0],linewidth=3.5)\n",
        "#plt.plot(datasets[\"W\"][1].index,preds[\"W\"][1],linewidth=3.5)\n",
        "#plt.plot(datasets[\"W\"][1].index,preds[\"W\"][2],linewidth=3.5)\n",
        "plt.plot(datasets[\"D\"][1].index,preds[\"D\"][3],linewidth=3.5)\n",
        "plt.legend(['Train','Predictions'], loc='upper_center')"
      ]
    },
    {
      "cell_type": "code",
      "execution_count": null,
      "metadata": {},
      "outputs": [],
      "source": []
    }
  ],
  "metadata": {
    "accelerator": "GPU",
    "colab": {
      "name": "ML_stockm.ipynb",
      "provenance": []
    },
    "kernelspec": {
      "display_name": "Python 3.8.7 64-bit",
      "name": "python387jvsc74a57bd095ab7303ed2746327945aa376054eddca8c4eca362915ff95db932dbe7e7ee41"
    },
    "language_info": {
      "name": "python",
      "version": ""
    }
  },
  "nbformat": 4,
  "nbformat_minor": 0
}
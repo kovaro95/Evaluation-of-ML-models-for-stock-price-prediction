{
 "cells": [
  {
   "cell_type": "code",
   "execution_count": 1,
   "metadata": {},
   "outputs": [],
   "source": [
    "import pandas as pd\r\n",
    "import numpy as np\r\n",
    "from matplotlib import pyplot as plt\r\n",
    "\r\n",
    "import talib\r\n",
    "\r\n",
    "import quandl\r\n",
    "API='ev8wgXS3LGQgZuHp6Bvm'\r\n",
    "quandl.ApiConfig.api_key = API\r\n",
    "\r\n",
    "from sklearn.linear_model import ElasticNet\r\n",
    "\r\n",
    "from tensorflow import keras\r\n",
    "import tensorflow as tf\r\n",
    "\r\n",
    "from keras.models import Sequential\r\n",
    "from keras.layers import Activation,Dropout,Dense,LSTM,BatchNormalization,Bidirectional\r\n",
    "from sklearn.preprocessing import MinMaxScaler\r\n",
    "\r\n",
    "RANDOM_SEED=42\r\n",
    "np.random.seed(RANDOM_SEED)"
   ]
  },
  {
   "cell_type": "code",
   "execution_count": 2,
   "metadata": {},
   "outputs": [],
   "source": [
    "stock=quandl.get('WIKI/MSFT',start_date=\"2010-01-01\")"
   ]
  },
  {
   "cell_type": "code",
   "execution_count": 3,
   "metadata": {},
   "outputs": [
    {
     "data": {
      "text/plain": "<AxesSubplot:xlabel='Date'>"
     },
     "execution_count": 3,
     "metadata": {},
     "output_type": "execute_result"
    },
    {
     "data": {
      "image/png": "[encoded data removed]",
      "text/plain": "<Figure size 432x288 with 1 Axes>"
     },
     "metadata": {
      "needs_background": "light"
     },
     "output_type": "display_data"
    }
   ],
   "source": [
    "stock[\"Close\"].plot()"
   ]
  },
  {
   "cell_type": "code",
   "execution_count": 37,
   "metadata": {},
   "outputs": [],
   "source": [
    "def Get_sequence_data(data,lookback=10,future=1): \r\n",
    "    X_seq_data=[]\r\n",
    "    Y_seq_data=[]\r\n",
    "    for i in range(lookback,len(data)-future+1,lookback):\r\n",
    "        X_seq_data.append(data.iloc[i-lookback:i,:])\r\n",
    "        Y_seq_data.append(data[\"Close\"].iloc[i-lookback+future:i+future])\r\n",
    "        #Y_seq_data.append(data[\"Close\"].iloc[i])\r\n",
    "    \r\n",
    "    return np.asarray(X_seq_data),np.asfarray(Y_seq_data)\r\n",
    "\r\n",
    "def Prepare_dataset(dataset,data_limit=300,test=0.2,seq=True,lookback=10,scale=True,tech_ind=False):\r\n",
    "    global scaler\r\n",
    "    \r\n",
    "    dataset=dataset.dropna(how=\"all\")\r\n",
    "    dataset=dataset.iloc[:data_limit,:]\r\n",
    "    dataset=dataset.iloc[:,0:5]\r\n",
    "    \r\n",
    "    if tech_ind==True:\r\n",
    "        # Create 7 and 21 days Moving Average\r\n",
    "        dataset['ma7'] = dataset['Close'].rolling(window=7).mean()\r\n",
    "        dataset['ma21'] = dataset['Close'].rolling(window=21).mean()\r\n",
    "        \r\n",
    "        # Create MACD\r\n",
    "        dataset['26ema'] = dataset['Close'].ewm(span=26).mean()\r\n",
    "        dataset['12ema'] = dataset['Close'].ewm(span=12).mean()\r\n",
    "        dataset['MACD'] = (dataset['12ema']-dataset['26ema'])\r\n",
    "\r\n",
    "        # Create Bollinger Bands\r\n",
    "        dataset['20sd'] = dataset[\"Close\"].rolling(20).std()\r\n",
    "        dataset['upper_band'] = dataset['ma21'] + (dataset['20sd']*2)\r\n",
    "        dataset['lower_band'] = dataset['ma21'] - (dataset['20sd']*2)\r\n",
    "        \r\n",
    "        # Create Exponential moving average\r\n",
    "        dataset['ema'] = dataset['Close'].ewm(com=0.5).mean()\r\n",
    "        \r\n",
    "        # Create Momentum\r\n",
    "        dataset['momentum'] = dataset['Close']-1\r\n",
    "        \r\n",
    "        dataset['RSI']=talib.RSI(dataset['Close'],14)\r\n",
    "        dataset=dataset.iloc[25:-1]\r\n",
    "    \r\n",
    "    t=int(len(dataset)*(1-test))\r\n",
    "    \r\n",
    "    train=dataset.iloc[:t,:]\r\n",
    "    test=dataset.iloc[t:,:]   \r\n",
    "    \r\n",
    "    if scale==True:\r\n",
    "        scaler=MinMaxScaler()\r\n",
    "        scaler=scaler.fit(train['Close'].values.reshape(-1,1))\r\n",
    "        train.loc[:,'Close']=scaler.transform(train['Close'].values.reshape(-1,1))\r\n",
    "        test.loc[:,'Close']=scaler.transform(test['Close'].values.reshape(-1,1))\r\n",
    "\r\n",
    "    if seq==True:\r\n",
    "        seq_tr=Get_sequence_data(train,lb)\r\n",
    "        seq_te=Get_sequence_data(test,lb)\r\n",
    "        \r\n",
    "        X_train=seq_tr[0]\r\n",
    "        y_train=seq_tr[1]\r\n",
    "        X_test=seq_te[0]\r\n",
    "        y_test=seq_te[1]\r\n",
    "    else:\r\n",
    "        X_train=train.drop('Close',axis=1)\r\n",
    "        y_train=train['Close'].shift(-1)\r\n",
    "        X_test=test.drop('Close',axis=1)\r\n",
    "        y_test=test['Close'].shift(-1)\r\n",
    "        \r\n",
    "        X_train=np.asarray(X_train).reshape(1,X_train.shape[0],X_train.shape[1])\r\n",
    "        y_train=train['Close'].shift(-1).values.reshape(1,-1)\r\n",
    "        X_test=np.asarray(X_test).reshape(1,X_test.shape[0],X_test.shape[1])\r\n",
    "        y_test=test['Close'].shift(-1).values.reshape(1,-1)\r\n",
    "        \r\n",
    "    \r\n",
    "    return X_train,X_test,y_train,y_test\r\n",
    "    \r\n",
    "   #return train, \\\r\n",
    "   #         test, \\\r\n",
    "    #        np.asarray(train['Close'].shift(-1)), \\\r\n",
    "    #        np.asarray(test['Close'].shift(-1))\r\n",
    "def LSTM_model():\r\n",
    "    tf.keras.backend.clear_session()\r\n",
    "    model = Sequential()\r\n",
    "    model.add(LSTM(units=100, dropout=0.8, recurrent_dropout=0.2,return_sequences=True,\r\n",
    "                input_shape = (lb,rnn_X_train.shape[2])))\r\n",
    "\r\n",
    "    model.add(LSTM(units=50, dropout=0.8,return_sequences=False, recurrent_dropout=0.2))\r\n",
    "    model.add(Dense(1,activation='linear'))\r\n",
    "    return model"
   ]
  },
  {
   "cell_type": "code",
   "execution_count": 46,
   "metadata": {},
   "outputs": [],
   "source": [
    "lb=25\r\n",
    "X_train,X_test,y_train,y_test=Prepare_dataset(stock,data_limit=5000,seq=True,lookback=lb,scale=False)\r\n",
    "\r\n",
    "rnn_X_train=tf.convert_to_tensor(X_train.astype('float'))\r\n",
    "rnn_y_train=tf.convert_to_tensor(y_train.astype('float'))\r\n",
    "\r\n",
    "rnn_X_test=tf.convert_to_tensor(X_test.astype('float'))\r\n",
    "rnn_y_test=tf.convert_to_tensor(y_test.astype('float'))"
   ]
  },
  {
   "cell_type": "code",
   "execution_count": 47,
   "metadata": {},
   "outputs": [
    {
     "data": {
      "text/plain": "(TensorShape([66, 25, 5]),\n TensorShape([16, 25, 5]),\n TensorShape([66, 25]),\n TensorShape([16, 25]))"
     },
     "execution_count": 47,
     "metadata": {},
     "output_type": "execute_result"
    }
   ],
   "source": [
    "rnn_X_train.shape,rnn_X_test.shape,rnn_y_train.shape,rnn_y_test.shape"
   ]
  },
  {
   "cell_type": "code",
   "execution_count": 48,
   "metadata": {},
   "outputs": [
    {
     "name": "stdout",
     "output_type": "stream",
     "text": [
      "Epoch 1/30\n",
      "30/30 [==============================] - 7s 50ms/step - loss: 27.9610 - MSE: 799.0439 - val_loss: 47.3641 - val_MSE: 2247.3508\n",
      "Epoch 2/30\n",
      "30/30 [==============================] - 1s 32ms/step - loss: 22.4911 - MSE: 522.2372 - val_loss: 42.6282 - val_MSE: 1821.1537\n",
      "Epoch 3/30\n",
      "30/30 [==============================] - 1s 31ms/step - loss: 18.0601 - MSE: 346.1320 - val_loss: 39.9226 - val_MSE: 1597.8055\n",
      "Epoch 4/30\n",
      "30/30 [==============================] - 1s 31ms/step - loss: 15.6277 - MSE: 264.4534 - val_loss: 37.8702 - val_MSE: 1438.1377\n",
      "Epoch 5/30\n",
      "30/30 [==============================] - 1s 31ms/step - loss: 13.6278 - MSE: 206.1785 - val_loss: 35.9984 - val_MSE: 1299.8750\n",
      "Epoch 6/30\n",
      "30/30 [==============================] - 1s 34ms/step - loss: 11.7993 - MSE: 159.7460 - val_loss: 34.2083 - val_MSE: 1174.1986\n",
      "Epoch 7/30\n",
      "30/30 [==============================] - 1s 32ms/step - loss: 10.0036 - MSE: 120.7897 - val_loss: 32.4740 - val_MSE: 1058.5492\n",
      "Epoch 8/30\n",
      "30/30 [==============================] - 1s 32ms/step - loss: 8.2794 - MSE: 89.2892 - val_loss: 30.7744 - val_MSE: 951.0519\n",
      "Epoch 9/30\n",
      "30/30 [==============================] - 1s 32ms/step - loss: 6.5890 - MSE: 64.1561 - val_loss: 29.1008 - val_MSE: 850.8471\n",
      "Epoch 10/30\n",
      "30/30 [==============================] - 1s 31ms/step - loss: 4.9430 - MSE: 45.1228 - val_loss: 27.4839 - val_MSE: 759.3553\n",
      "Epoch 11/30\n",
      "30/30 [==============================] - 1s 31ms/step - loss: 3.7505 - MSE: 33.1530 - val_loss: 26.2160 - val_MSE: 691.2682\n",
      "Epoch 12/30\n",
      "30/30 [==============================] - 1s 31ms/step - loss: 3.3142 - MSE: 27.0704 - val_loss: 25.2708 - val_MSE: 642.6019\n",
      "Epoch 13/30\n",
      "30/30 [==============================] - 1s 32ms/step - loss: 3.1934 - MSE: 24.3237 - val_loss: 24.5500 - val_MSE: 606.6906\n",
      "Epoch 14/30\n",
      "30/30 [==============================] - 1s 31ms/step - loss: 3.1926 - MSE: 23.2963 - val_loss: 24.0236 - val_MSE: 581.1202\n",
      "Epoch 15/30\n",
      "30/30 [==============================] - 1s 31ms/step - loss: 3.2802 - MSE: 23.1337 - val_loss: 23.6047 - val_MSE: 561.1717\n",
      "Epoch 16/30\n",
      "30/30 [==============================] - 1s 32ms/step - loss: 3.3788 - MSE: 23.2847 - val_loss: 23.2638 - val_MSE: 545.1954\n",
      "Epoch 17/30\n",
      "30/30 [==============================] - 1s 32ms/step - loss: 3.4917 - MSE: 23.6619 - val_loss: 22.9993 - val_MSE: 532.9556\n",
      "Epoch 18/30\n",
      "30/30 [==============================] - 1s 31ms/step - loss: 3.5992 - MSE: 24.1320 - val_loss: 22.7951 - val_MSE: 523.6052\n",
      "Epoch 19/30\n",
      "30/30 [==============================] - 1s 35ms/step - loss: 3.6840 - MSE: 24.5229 - val_loss: 22.6242 - val_MSE: 515.8452\n",
      "Epoch 20/30\n",
      "30/30 [==============================] - 1s 34ms/step - loss: 3.7567 - MSE: 24.9052 - val_loss: 22.4878 - val_MSE: 509.6923\n",
      "Epoch 21/30\n",
      "30/30 [==============================] - 1s 31ms/step - loss: 3.8236 - MSE: 25.2625 - val_loss: 22.3723 - val_MSE: 504.5093\n",
      "Epoch 22/30\n",
      "30/30 [==============================] - 1s 31ms/step - loss: 3.8849 - MSE: 25.6073 - val_loss: 22.2815 - val_MSE: 500.4534\n",
      "Epoch 23/30\n",
      "30/30 [==============================] - 1s 30ms/step - loss: 3.9314 - MSE: 25.8863 - val_loss: 22.2043 - val_MSE: 497.0220\n",
      "Epoch 24/30\n",
      "30/30 [==============================] - 1s 30ms/step - loss: 3.9746 - MSE: 26.1580 - val_loss: 22.1425 - val_MSE: 494.2795\n",
      "Epoch 25/30\n",
      "30/30 [==============================] - 1s 30ms/step - loss: 3.9997 - MSE: 26.3091 - val_loss: 22.0924 - val_MSE: 492.0637\n",
      "Epoch 26/30\n",
      "30/30 [==============================] - 1s 31ms/step - loss: 4.0300 - MSE: 26.5207 - val_loss: 22.0530 - val_MSE: 490.3229\n",
      "Epoch 27/30\n",
      "30/30 [==============================] - 1s 30ms/step - loss: 4.0559 - MSE: 26.6624 - val_loss: 22.0317 - val_MSE: 489.3854\n",
      "Epoch 28/30\n",
      "30/30 [==============================] - 1s 30ms/step - loss: 4.0725 - MSE: 26.7978 - val_loss: 22.0156 - val_MSE: 488.6758\n",
      "Epoch 29/30\n",
      "30/30 [==============================] - 1s 30ms/step - loss: 4.0810 - MSE: 26.8674 - val_loss: 22.0000 - val_MSE: 487.9894\n",
      "Epoch 30/30\n",
      "30/30 [==============================] - 1s 30ms/step - loss: 4.0914 - MSE: 26.9068 - val_loss: 21.9872 - val_MSE: 487.4284\n"
     ]
    }
   ],
   "source": [
    "tf.keras.backend.clear_session()\r\n",
    "model = Sequential()\r\n",
    "model.add(LSTM(units=100, dropout=0.8, recurrent_dropout=0.2,return_sequences=True,\r\n",
    "               input_shape = (lb,rnn_X_train.shape[2])))\r\n",
    "\r\n",
    "model.add(LSTM(units=50, dropout=0.8,return_sequences=False, recurrent_dropout=0.2))\r\n",
    "###\r\n",
    "# model.add(Bidirectional(LSTM(units=10,return_sequences=True,input_shape = (lb,rnn_X_train.shape[2]))))\r\n",
    "# model.add(Dropout(0.8))\r\n",
    "# model.add(Bidirectional(LSTM(units=5,return_sequences=False)))\r\n",
    "# model.add(Dropout(0.8))\r\n",
    "###\r\n",
    "# model.add(LSTM(units=50, return_sequences=True))\r\n",
    "# model.add(Dropout(0.2))\r\n",
    "# model.add(LSTM(units=50, return_sequences=True))\r\n",
    "# model.add(Dropout(0.5))\r\n",
    "# model.add(LSTM(units=50))\r\n",
    "# model.add(Dropout(0.5))\r\n",
    "model.add(Dense(1,activation='linear'))\r\n",
    "\r\n",
    "defined_metrics = [tf.keras.metrics.MeanSquaredError(name='MSE')]\r\n",
    "callback = tf.keras.callbacks.EarlyStopping(monitor='val_loss', patience=3, mode='min', verbose=1)\r\n",
    "\r\n",
    "# Compile the model\r\n",
    "optimizer = tf.keras.optimizers.Adam(learning_rate=1e-3)\r\n",
    "model.compile(optimizer=optimizer, loss='mae',metrics=defined_metrics)\r\n",
    "\r\n",
    "# Train the model\r\n",
    "history=model.fit(rnn_X_train,rnn_y_train , epochs=30, batch_size=2,\r\n",
    "                  shuffle=False,\r\n",
    "                  validation_split=0.1,\r\n",
    "                  callbacks=[callback])"
   ]
  },
  {
   "cell_type": "code",
   "execution_count": 18,
   "metadata": {},
   "outputs": [
    {
     "name": "stdout",
     "output_type": "stream",
     "text": [
      "Epoch 1/30\n",
      "3/3 [==============================] - 17s 4s/step - loss: 29.8209 - MSE: 919.2804 - val_loss: 43.9180 - val_MSE: 1948.5475\n",
      "Epoch 2/30\n",
      "3/3 [==============================] - 12s 4s/step - loss: 24.5438 - MSE: 633.3142 - val_loss: 39.8729 - val_MSE: 1609.6027\n",
      "Epoch 3/30\n",
      "3/3 [==============================] - 12s 4s/step - loss: 20.6929 - MSE: 462.9353 - val_loss: 37.2656 - val_MSE: 1408.4800\n",
      "Epoch 4/30\n",
      "3/3 [==============================] - 13s 4s/step - loss: 18.4301 - MSE: 376.5489 - val_loss: 35.4151 - val_MSE: 1273.9850\n",
      "Epoch 5/30\n",
      "3/3 [==============================] - 13s 4s/step - loss: 16.7358 - MSE: 317.1661 - val_loss: 33.7306 - val_MSE: 1157.5070\n",
      "Epoch 6/30\n",
      "3/3 [==============================] - 13s 4s/step - loss: 15.0955 - MSE: 265.0026 - val_loss: 32.0870 - val_MSE: 1049.3280\n",
      "Epoch 7/30\n",
      "3/3 [==============================] - 14s 4s/step - loss: 13.4684 - MSE: 218.5181 - val_loss: 30.4478 - val_MSE: 946.8242\n",
      "Epoch 8/30\n",
      "3/3 [==============================] - 13s 4s/step - loss: 11.8366 - MSE: 177.2131 - val_loss: 28.8080 - val_MSE: 849.6553\n",
      "Epoch 9/30\n",
      "3/3 [==============================] - 13s 4s/step - loss: 10.2004 - MSE: 141.1490 - val_loss: 27.1686 - val_MSE: 757.8898\n",
      "Epoch 10/30\n",
      "3/3 [==============================] - 13s 4s/step - loss: 8.5632 - MSE: 110.4333 - val_loss: 25.5314 - val_MSE: 671.6060\n",
      "Epoch 11/30\n",
      "3/3 [==============================] - 13s 4s/step - loss: 6.9301 - MSE: 85.1100 - val_loss: 23.8984 - val_MSE: 590.8895\n",
      "Epoch 12/30\n",
      "3/3 [==============================] - 13s 4s/step - loss: 5.4738 - MSE: 65.3941 - val_loss: 22.3155 - val_MSE: 517.7348\n",
      "Epoch 13/30\n",
      "3/3 [==============================] - 14s 4s/step - loss: 4.6793 - MSE: 51.7007 - val_loss: 20.8838 - val_MSE: 455.8890\n",
      "Epoch 14/30\n",
      "3/3 [==============================] - 13s 4s/step - loss: 4.4968 - MSE: 43.6996 - val_loss: 19.6600 - val_MSE: 406.2689\n",
      "Epoch 15/30\n",
      "3/3 [==============================] - 13s 4s/step - loss: 4.6064 - MSE: 40.0417 - val_loss: 18.6467 - val_MSE: 367.4548\n",
      "Epoch 16/30\n",
      "3/3 [==============================] - 14s 4s/step - loss: 4.8332 - MSE: 39.2140 - val_loss: 17.8368 - val_MSE: 337.9073\n",
      "Epoch 17/30\n",
      "3/3 [==============================] - 13s 4s/step - loss: 5.1048 - MSE: 39.9811 - val_loss: 17.2145 - val_MSE: 316.0924\n",
      "Epoch 18/30\n",
      "3/3 [==============================] - 13s 4s/step - loss: 5.3589 - MSE: 41.4270 - val_loss: 16.7563 - val_MSE: 300.5271\n",
      "Epoch 19/30\n",
      "3/3 [==============================] - 12s 4s/step - loss: 5.5731 - MSE: 42.9823 - val_loss: 16.4387 - val_MSE: 289.9850\n",
      "Epoch 20/30\n",
      "3/3 [==============================] - 13s 4s/step - loss: 5.7305 - MSE: 44.3060 - val_loss: 16.2333 - val_MSE: 283.2739\n",
      "Epoch 21/30\n",
      "3/3 [==============================] - 13s 4s/step - loss: 5.8372 - MSE: 45.2855 - val_loss: 16.1157 - val_MSE: 279.4706\n",
      "Epoch 22/30\n",
      "3/3 [==============================] - 13s 4s/step - loss: 5.8999 - MSE: 45.9064 - val_loss: 16.0645 - val_MSE: 277.8214\n",
      "Epoch 23/30\n",
      "3/3 [==============================] - 13s 4s/step - loss: 5.9290 - MSE: 46.2246 - val_loss: 16.0640 - val_MSE: 277.8074\n",
      "Epoch 24/30\n",
      "3/3 [==============================] - 13s 4s/step - loss: 5.9315 - MSE: 46.2940 - val_loss: 16.1006 - val_MSE: 278.9831\n",
      "Epoch 25/30\n",
      "3/3 [==============================] - 13s 4s/step - loss: 5.9150 - MSE: 46.1806 - val_loss: 16.1623 - val_MSE: 280.9738\n",
      "Epoch 26/30\n",
      "3/3 [==============================] - 13s 4s/step - loss: 5.8855 - MSE: 45.9493 - val_loss: 16.2413 - val_MSE: 283.5339\n",
      "Epoch 00026: early stopping\n"
     ]
    }
   ],
   "source": [
    "train_model=LSTM_model()\r\n",
    "\r\n",
    "defined_metrics = [tf.keras.metrics.MeanSquaredError(name='MSE')]\r\n",
    "callback = tf.keras.callbacks.EarlyStopping(monitor='val_loss', patience=3, mode='min', verbose=1)\r\n",
    "\r\n",
    "# Compile the model\r\n",
    "optimizer = tf.keras.optimizers.Adam(learning_rate=1e-2)\r\n",
    "train_model.compile(optimizer=optimizer, loss='mae',metrics=defined_metrics)\r\n",
    "\r\n",
    "# Train the model\r\n",
    "history=train_model.fit(rnn_X_train,rnn_y_train , epochs=30, batch_size=467,\r\n",
    "                  shuffle=False,\r\n",
    "                  validation_split=0.1,\r\n",
    "                  callbacks=[callback])\r\n"
   ]
  },
  {
   "cell_type": "code",
   "execution_count": 158,
   "metadata": {},
   "outputs": [],
   "source": [
    "pred_model=LSTM_model(batch_size=40)\r\n",
    "pred_model.set_weights(train_model.get_weights())"
   ]
  },
  {
   "cell_type": "code",
   "execution_count": 30,
   "metadata": {},
   "outputs": [
    {
     "data": {
      "text/plain": "[<matplotlib.lines.Line2D at 0x1cc4155d910>]"
     },
     "execution_count": 30,
     "metadata": {},
     "output_type": "execute_result"
    },
    {
     "data": {
      "image/png": "[encoded data removed]",
      "text/plain": "<Figure size 432x288 with 1 Axes>"
     },
     "metadata": {
      "needs_background": "light"
     },
     "output_type": "display_data"
    }
   ],
   "source": [
    "plt.plot(X_train[0,:,3],label='Traing')\r\n",
    "plt.plot(y_train[0,:],label=\"Target\")"
   ]
  },
  {
   "cell_type": "code",
   "execution_count": 137,
   "metadata": {},
   "outputs": [
    {
     "ename": "ValueError",
     "evalue": "x and y can be no greater than 2-D, but have shapes (0,) and (0, 255, 12)",
     "output_type": "error",
     "traceback": [
      "\u001b[1;31m---------------------------------------------------------------------------\u001b[0m",
      "\u001b[1;31mValueError\u001b[0m                                Traceback (most recent call last)",
      "\u001b[1;32m<ipython-input-137-1f0bc52d6db1>\u001b[0m in \u001b[0;36m<module>\u001b[1;34m\u001b[0m\n\u001b[0;32m      7\u001b[0m \u001b[1;31m# Plot prediction vs actual for test data\u001b[0m\u001b[1;33m\u001b[0m\u001b[1;33m\u001b[0m\u001b[1;33m\u001b[0m\u001b[0m\n\u001b[0;32m      8\u001b[0m \u001b[0mplt\u001b[0m\u001b[1;33m.\u001b[0m\u001b[0mfigure\u001b[0m\u001b[1;33m(\u001b[0m\u001b[1;33m)\u001b[0m\u001b[1;33m\u001b[0m\u001b[1;33m\u001b[0m\u001b[0m\n\u001b[1;32m----> 9\u001b[1;33m \u001b[0mplt\u001b[0m\u001b[1;33m.\u001b[0m\u001b[0mplot\u001b[0m\u001b[1;33m(\u001b[0m\u001b[0mX_pred\u001b[0m\u001b[1;33m[\u001b[0m\u001b[0mlb\u001b[0m\u001b[1;33m:\u001b[0m\u001b[1;33m]\u001b[0m\u001b[1;33m,\u001b[0m\u001b[1;34m':'\u001b[0m\u001b[1;33m,\u001b[0m\u001b[0mlabel\u001b[0m\u001b[1;33m=\u001b[0m\u001b[1;34m'LSTM'\u001b[0m\u001b[1;33m)\u001b[0m\u001b[1;33m\u001b[0m\u001b[1;33m\u001b[0m\u001b[0m\n\u001b[0m\u001b[0;32m     10\u001b[0m \u001b[0mplt\u001b[0m\u001b[1;33m.\u001b[0m\u001b[0mplot\u001b[0m\u001b[1;33m(\u001b[0m\u001b[0mnext_X1\u001b[0m\u001b[1;33m,\u001b[0m\u001b[1;34m'--'\u001b[0m\u001b[1;33m,\u001b[0m\u001b[0mlabel\u001b[0m\u001b[1;33m=\u001b[0m\u001b[1;34m'Actual'\u001b[0m\u001b[1;33m)\u001b[0m\u001b[1;33m\u001b[0m\u001b[1;33m\u001b[0m\u001b[0m\n\u001b[0;32m     11\u001b[0m \u001b[0mplt\u001b[0m\u001b[1;33m.\u001b[0m\u001b[0mlegend\u001b[0m\u001b[1;33m(\u001b[0m\u001b[1;33m)\u001b[0m\u001b[1;33m\u001b[0m\u001b[1;33m\u001b[0m\u001b[0m\n",
      "\u001b[1;32mD:\\Python38\\lib\\site-packages\\matplotlib\\pyplot.py\u001b[0m in \u001b[0;36mplot\u001b[1;34m(scalex, scaley, data, *args, **kwargs)\u001b[0m\n\u001b[0;32m   2838\u001b[0m \u001b[1;33m@\u001b[0m\u001b[0m_copy_docstring_and_deprecators\u001b[0m\u001b[1;33m(\u001b[0m\u001b[0mAxes\u001b[0m\u001b[1;33m.\u001b[0m\u001b[0mplot\u001b[0m\u001b[1;33m)\u001b[0m\u001b[1;33m\u001b[0m\u001b[1;33m\u001b[0m\u001b[0m\n\u001b[0;32m   2839\u001b[0m \u001b[1;32mdef\u001b[0m \u001b[0mplot\u001b[0m\u001b[1;33m(\u001b[0m\u001b[1;33m*\u001b[0m\u001b[0margs\u001b[0m\u001b[1;33m,\u001b[0m \u001b[0mscalex\u001b[0m\u001b[1;33m=\u001b[0m\u001b[1;32mTrue\u001b[0m\u001b[1;33m,\u001b[0m \u001b[0mscaley\u001b[0m\u001b[1;33m=\u001b[0m\u001b[1;32mTrue\u001b[0m\u001b[1;33m,\u001b[0m \u001b[0mdata\u001b[0m\u001b[1;33m=\u001b[0m\u001b[1;32mNone\u001b[0m\u001b[1;33m,\u001b[0m \u001b[1;33m**\u001b[0m\u001b[0mkwargs\u001b[0m\u001b[1;33m)\u001b[0m\u001b[1;33m:\u001b[0m\u001b[1;33m\u001b[0m\u001b[1;33m\u001b[0m\u001b[0m\n\u001b[1;32m-> 2840\u001b[1;33m     return gca().plot(\n\u001b[0m\u001b[0;32m   2841\u001b[0m         \u001b[1;33m*\u001b[0m\u001b[0margs\u001b[0m\u001b[1;33m,\u001b[0m \u001b[0mscalex\u001b[0m\u001b[1;33m=\u001b[0m\u001b[0mscalex\u001b[0m\u001b[1;33m,\u001b[0m \u001b[0mscaley\u001b[0m\u001b[1;33m=\u001b[0m\u001b[0mscaley\u001b[0m\u001b[1;33m,\u001b[0m\u001b[1;33m\u001b[0m\u001b[1;33m\u001b[0m\u001b[0m\n\u001b[0;32m   2842\u001b[0m         **({\"data\": data} if data is not None else {}), **kwargs)\n",
      "\u001b[1;32mD:\\Python38\\lib\\site-packages\\matplotlib\\axes\\_axes.py\u001b[0m in \u001b[0;36mplot\u001b[1;34m(self, scalex, scaley, data, *args, **kwargs)\u001b[0m\n\u001b[0;32m   1741\u001b[0m         \"\"\"\n\u001b[0;32m   1742\u001b[0m         \u001b[0mkwargs\u001b[0m \u001b[1;33m=\u001b[0m \u001b[0mcbook\u001b[0m\u001b[1;33m.\u001b[0m\u001b[0mnormalize_kwargs\u001b[0m\u001b[1;33m(\u001b[0m\u001b[0mkwargs\u001b[0m\u001b[1;33m,\u001b[0m \u001b[0mmlines\u001b[0m\u001b[1;33m.\u001b[0m\u001b[0mLine2D\u001b[0m\u001b[1;33m)\u001b[0m\u001b[1;33m\u001b[0m\u001b[1;33m\u001b[0m\u001b[0m\n\u001b[1;32m-> 1743\u001b[1;33m         \u001b[0mlines\u001b[0m \u001b[1;33m=\u001b[0m \u001b[1;33m[\u001b[0m\u001b[1;33m*\u001b[0m\u001b[0mself\u001b[0m\u001b[1;33m.\u001b[0m\u001b[0m_get_lines\u001b[0m\u001b[1;33m(\u001b[0m\u001b[1;33m*\u001b[0m\u001b[0margs\u001b[0m\u001b[1;33m,\u001b[0m \u001b[0mdata\u001b[0m\u001b[1;33m=\u001b[0m\u001b[0mdata\u001b[0m\u001b[1;33m,\u001b[0m \u001b[1;33m**\u001b[0m\u001b[0mkwargs\u001b[0m\u001b[1;33m)\u001b[0m\u001b[1;33m]\u001b[0m\u001b[1;33m\u001b[0m\u001b[1;33m\u001b[0m\u001b[0m\n\u001b[0m\u001b[0;32m   1744\u001b[0m         \u001b[1;32mfor\u001b[0m \u001b[0mline\u001b[0m \u001b[1;32min\u001b[0m \u001b[0mlines\u001b[0m\u001b[1;33m:\u001b[0m\u001b[1;33m\u001b[0m\u001b[1;33m\u001b[0m\u001b[0m\n\u001b[0;32m   1745\u001b[0m             \u001b[0mself\u001b[0m\u001b[1;33m.\u001b[0m\u001b[0madd_line\u001b[0m\u001b[1;33m(\u001b[0m\u001b[0mline\u001b[0m\u001b[1;33m)\u001b[0m\u001b[1;33m\u001b[0m\u001b[1;33m\u001b[0m\u001b[0m\n",
      "\u001b[1;32mD:\\Python38\\lib\\site-packages\\matplotlib\\axes\\_base.py\u001b[0m in \u001b[0;36m__call__\u001b[1;34m(self, data, *args, **kwargs)\u001b[0m\n\u001b[0;32m    271\u001b[0m                 \u001b[0mthis\u001b[0m \u001b[1;33m+=\u001b[0m \u001b[0margs\u001b[0m\u001b[1;33m[\u001b[0m\u001b[1;36m0\u001b[0m\u001b[1;33m]\u001b[0m\u001b[1;33m,\u001b[0m\u001b[1;33m\u001b[0m\u001b[1;33m\u001b[0m\u001b[0m\n\u001b[0;32m    272\u001b[0m                 \u001b[0margs\u001b[0m \u001b[1;33m=\u001b[0m \u001b[0margs\u001b[0m\u001b[1;33m[\u001b[0m\u001b[1;36m1\u001b[0m\u001b[1;33m:\u001b[0m\u001b[1;33m]\u001b[0m\u001b[1;33m\u001b[0m\u001b[1;33m\u001b[0m\u001b[0m\n\u001b[1;32m--> 273\u001b[1;33m             \u001b[1;32myield\u001b[0m \u001b[1;32mfrom\u001b[0m \u001b[0mself\u001b[0m\u001b[1;33m.\u001b[0m\u001b[0m_plot_args\u001b[0m\u001b[1;33m(\u001b[0m\u001b[0mthis\u001b[0m\u001b[1;33m,\u001b[0m \u001b[0mkwargs\u001b[0m\u001b[1;33m)\u001b[0m\u001b[1;33m\u001b[0m\u001b[1;33m\u001b[0m\u001b[0m\n\u001b[0m\u001b[0;32m    274\u001b[0m \u001b[1;33m\u001b[0m\u001b[0m\n\u001b[0;32m    275\u001b[0m     \u001b[1;32mdef\u001b[0m \u001b[0mget_next_color\u001b[0m\u001b[1;33m(\u001b[0m\u001b[0mself\u001b[0m\u001b[1;33m)\u001b[0m\u001b[1;33m:\u001b[0m\u001b[1;33m\u001b[0m\u001b[1;33m\u001b[0m\u001b[0m\n",
      "\u001b[1;32mD:\\Python38\\lib\\site-packages\\matplotlib\\axes\\_base.py\u001b[0m in \u001b[0;36m_plot_args\u001b[1;34m(self, tup, kwargs)\u001b[0m\n\u001b[0;32m    400\u001b[0m                              f\"have shapes {x.shape} and {y.shape}\")\n\u001b[0;32m    401\u001b[0m         \u001b[1;32mif\u001b[0m \u001b[0mx\u001b[0m\u001b[1;33m.\u001b[0m\u001b[0mndim\u001b[0m \u001b[1;33m>\u001b[0m \u001b[1;36m2\u001b[0m \u001b[1;32mor\u001b[0m \u001b[0my\u001b[0m\u001b[1;33m.\u001b[0m\u001b[0mndim\u001b[0m \u001b[1;33m>\u001b[0m \u001b[1;36m2\u001b[0m\u001b[1;33m:\u001b[0m\u001b[1;33m\u001b[0m\u001b[1;33m\u001b[0m\u001b[0m\n\u001b[1;32m--> 402\u001b[1;33m             raise ValueError(f\"x and y can be no greater than 2-D, but have \"\n\u001b[0m\u001b[0;32m    403\u001b[0m                              f\"shapes {x.shape} and {y.shape}\")\n\u001b[0;32m    404\u001b[0m         \u001b[1;32mif\u001b[0m \u001b[0mx\u001b[0m\u001b[1;33m.\u001b[0m\u001b[0mndim\u001b[0m \u001b[1;33m==\u001b[0m \u001b[1;36m1\u001b[0m\u001b[1;33m:\u001b[0m\u001b[1;33m\u001b[0m\u001b[1;33m\u001b[0m\u001b[0m\n",
      "\u001b[1;31mValueError\u001b[0m: x and y can be no greater than 2-D, but have shapes (0,) and (0, 255, 12)"
     ]
    },
    {
     "data": {
      "image/png": "[encoded data removed]",
      "text/plain": "<Figure size 432x288 with 1 Axes>"
     },
     "metadata": {
      "needs_background": "light"
     },
     "output_type": "display_data"
    }
   ],
   "source": [
    "# Using predicted values to predict next step\r\n",
    "X_pred = X_test.copy()\r\n",
    "for i in range(lb,len(X_pred)):\r\n",
    "    xin = X_pred[i,:,:].reshape((1, lb, 1))\r\n",
    "    X_pred[i] = model.predict(xin)\r\n",
    "\r\n",
    "# Plot prediction vs actual for test data\r\n",
    "plt.figure()\r\n",
    "plt.plot(X_pred[lb:],':',label='LSTM')\r\n",
    "plt.plot(next_X1,'--',label='Actual')\r\n",
    "plt.legend()"
   ]
  },
  {
   "cell_type": "code",
   "execution_count": 42,
   "metadata": {},
   "outputs": [
    {
     "data": {
      "image/png": "[encoded data removed]",
      "text/plain": "<Figure size 432x288 with 1 Axes>"
     },
     "metadata": {
      "needs_background": "light"
     },
     "output_type": "display_data"
    }
   ],
   "source": [
    "preds=model.predict(rnn_X_test)\r\n",
    "plt.plot(preds,label='preds')\r\n",
    "plt.plot(stock.iloc[-1,:].values,label='true')\r\n",
    "plt.legend()\r\n",
    "plt.show()"
   ]
  },
  {
   "cell_type": "code",
   "execution_count": 51,
   "metadata": {},
   "outputs": [
    {
     "data": {
      "image/png": "[encoded data removed]",
      "text/plain": "<Figure size 432x288 with 1 Axes>"
     },
     "metadata": {
      "needs_background": "light"
     },
     "output_type": "display_data"
    }
   ],
   "source": [
    "plt.plot(history.history['loss'],label='train loss')\r\n",
    "plt.plot(history.history['val_loss'],label='val loss')\r\n",
    "plt.legend()\r\n",
    "plt.show()"
   ]
  },
  {
   "cell_type": "code",
   "execution_count": 52,
   "metadata": {},
   "outputs": [
    {
     "name": "stdout",
     "output_type": "stream",
     "text": [
      "7/7 [==============================] - 0s 4ms/step - loss: 2.2468 - MSE: 8.7670\n"
     ]
    }
   ],
   "source": [
    "score=model.evaluate(rnn_X_train,rnn_y_train)"
   ]
  },
  {
   "cell_type": "code",
   "execution_count": 115,
   "metadata": {},
   "outputs": [
    {
     "data": {
      "text/plain": "[0.2859285771846771, 0.15177173912525177]"
     },
     "execution_count": 115,
     "metadata": {},
     "output_type": "execute_result"
    }
   ],
   "source": [
    "score"
   ]
  },
  {
   "cell_type": "code",
   "execution_count": 34,
   "metadata": {},
   "outputs": [
    {
     "data": {
      "text/plain": "array([[24.914175]], dtype=float32)"
     },
     "execution_count": 34,
     "metadata": {},
     "output_type": "execute_result"
    }
   ],
   "source": [
    "preds"
   ]
  },
  {
   "cell_type": "code",
   "execution_count": 21,
   "metadata": {},
   "outputs": [
    {
     "data": {
      "text/plain": "(1, 1859, 23)"
     },
     "execution_count": 21,
     "metadata": {},
     "output_type": "execute_result"
    }
   ],
   "source": [
    "rnn_X_test.shape"
   ]
  },
  {
   "cell_type": "code",
   "execution_count": 38,
   "metadata": {},
   "outputs": [
    {
     "name": "stdout",
     "output_type": "stream",
     "text": [
      "Model: \"sequential\"\n",
      "_________________________________________________________________\n",
      "Layer (type)                 Output Shape              Param #   \n",
      "=================================================================\n",
      "lstm (LSTM)                  (None, 22, 64)            19712     \n",
      "_________________________________________________________________\n",
      "lstm_1 (LSTM)                (None, 64)                33024     \n",
      "_________________________________________________________________\n",
      "dense (Dense)                (None, 1)                 65        \n",
      "=================================================================\n",
      "Total params: 52,801\n",
      "Trainable params: 52,801\n",
      "Non-trainable params: 0\n",
      "_________________________________________________________________\n"
     ]
    }
   ],
   "source": [
    "model.summary()"
   ]
  },
  {
   "cell_type": "code",
   "execution_count": 44,
   "metadata": {},
   "outputs": [],
   "source": [
    "preds=model.predict(rnn_X_test)"
   ]
  },
  {
   "cell_type": "code",
   "execution_count": 45,
   "metadata": {},
   "outputs": [
    {
     "data": {
      "text/plain": "array([[4.4420824]], dtype=float32)"
     },
     "execution_count": 45,
     "metadata": {},
     "output_type": "execute_result"
    }
   ],
   "source": [
    "preds"
   ]
  },
  {
   "cell_type": "code",
   "execution_count": null,
   "metadata": {},
   "outputs": [],
   "source": []
  }
 ],
 "metadata": {
  "kernelspec": {
   "display_name": "Python 3.8.7 64-bit",
   "metadata": {
    "interpreter": {
     "hash": "95ab7303ed2746327945aa376054eddca8c4eca362915ff95db932dbe7e7ee41"
    }
   },
   "name": "python3"
  },
  "language_info": {
   "codemirror_mode": {
    "name": "ipython",
    "version": 3
   },
   "file_extension": ".py",
   "mimetype": "text/x-python",
   "name": "python",
   "nbconvert_exporter": "python",
   "pygments_lexer": "ipython3",
   "version": "3.8.7-final"
  },
  "orig_nbformat": 2
 },
 "nbformat": 4,
 "nbformat_minor": 2
}
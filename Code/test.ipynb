{
 "cells": [
  {
   "cell_type": "code",
   "execution_count": 1,
   "metadata": {},
   "outputs": [],
   "source": [
    "import pandas as pd\r\n",
    "import numpy as np\r\n",
    "from matplotlib import pyplot as plt\r\n",
    "\r\n",
    "import talib\r\n",
    "\r\n",
    "import IPython\r\n",
    "import IPython.display\r\n",
    "\r\n",
    "from sklearn.model_selection import train_test_split\r\n",
    "from sklearn.linear_model import ElasticNet\r\n",
    "\r\n",
    "from tensorflow import keras\r\n",
    "import tensorflow as tf\r\n",
    "\r\n",
    "from keras.models import Sequential\r\n",
    "from keras.layers import Activation,Dropout,Dense,LSTM,BatchNormalization\r\n",
    "from sklearn.preprocessing import MinMaxScaler"
   ]
  },
  {
   "cell_type": "code",
   "execution_count": 2,
   "metadata": {},
   "outputs": [],
   "source": [
    "def Preprocess(data):\r\n",
    "    n=len(data)\r\n",
    "    s1=int(n*0.7)\r\n",
    "    s2=int(n*0.9)\r\n",
    "    data[\"Target\"]=data[\"Close\"].shift(-1)\r\n",
    "    \r\n",
    "    train=data.iloc[0:s1,:]\r\n",
    "    val=data.iloc[s1:s2,:]\r\n",
    "    test=data.iloc[s2:,:]\r\n",
    "    \r\n",
    "    return train,val,test"
   ]
  },
  {
   "cell_type": "code",
   "execution_count": 3,
   "metadata": {},
   "outputs": [],
   "source": [
    "min_df=pd.read_csv(f\"../Data/Prices/AAPL_min.csv\",index_col=0)\r\n",
    "thirt_min=pd.read_csv(f\"../Data/Prices/AAPL_thirt_min.csv\",index_col=0)\r\n",
    "hour=pd.read_csv(f\"../Data/Prices/AAPL_hour.csv\",index_col=0)\r\n",
    "daily=pd.read_csv(f\"../Data/Prices/AAPL_daily.csv\",index_col=0)\r\n",
    "weekly=pd.read_csv(f\"../Data/Prices/AAPL_weekly.csv\",index_col=0)"
   ]
  },
  {
   "cell_type": "code",
   "execution_count": 4,
   "metadata": {},
   "outputs": [],
   "source": [
    "df=daily\r\n",
    "num_features = df.shape[1]\r\n",
    "date_time = pd.to_datetime(df.index, format='%Y-%m-%d %H:%M:%S')\r\n",
    "column_indices = {name: i for i, name in enumerate(df.columns)}\r\n",
    "\r\n",
    "train_df,val_df,test_df=Preprocess(df)"
   ]
  },
  {
   "cell_type": "code",
   "execution_count": 5,
   "metadata": {},
   "outputs": [],
   "source": [
    "class WindowGenerator():\r\n",
    "  def __init__(self, input_width, label_width, shift,\r\n",
    "               train_df=train_df, val_df=val_df, test_df=test_df,\r\n",
    "               label_columns=None):\r\n",
    "    # Store the raw data.\r\n",
    "    self.train_df = train_df\r\n",
    "    self.val_df = val_df\r\n",
    "    self.test_df = test_df\r\n",
    "\r\n",
    "    # Work out the label column indices.\r\n",
    "    self.label_columns = label_columns\r\n",
    "    if label_columns is not None:\r\n",
    "      self.label_columns_indices = {name: i for i, name in\r\n",
    "                                    enumerate(label_columns)}\r\n",
    "    self.column_indices = {name: i for i, name in\r\n",
    "                           enumerate(train_df.columns)}\r\n",
    "\r\n",
    "    # Work out the window parameters.\r\n",
    "    self.input_width = input_width\r\n",
    "    self.label_width = label_width\r\n",
    "    self.shift = shift\r\n",
    "\r\n",
    "    self.total_window_size = input_width + shift\r\n",
    "\r\n",
    "    self.input_slice = slice(0, input_width)\r\n",
    "    self.input_indices = np.arange(self.total_window_size)[self.input_slice]\r\n",
    "\r\n",
    "    self.label_start = self.total_window_size - self.label_width\r\n",
    "    self.labels_slice = slice(self.label_start, None)\r\n",
    "    self.label_indices = np.arange(self.total_window_size)[self.labels_slice]\r\n",
    "\r\n",
    "  def __repr__(self):\r\n",
    "    return '\\n'.join([\r\n",
    "        f'Total window size: {self.total_window_size}',\r\n",
    "        f'Input indices: {self.input_indices}',\r\n",
    "        f'Label indices: {self.label_indices}',\r\n",
    "        f'Label column name(s): {self.label_columns}'])"
   ]
  },
  {
   "cell_type": "code",
   "execution_count": 6,
   "metadata": {},
   "outputs": [],
   "source": [
    "def split_window(self, features):\r\n",
    "  inputs = features[:, self.input_slice, :]\r\n",
    "  labels = features[:, self.labels_slice, :]\r\n",
    "  if self.label_columns is not None:\r\n",
    "    labels = tf.stack(\r\n",
    "        [labels[:, :, self.column_indices[name]] for name in self.label_columns],\r\n",
    "        axis=-1)\r\n",
    "\r\n",
    "  # Slicing doesn't preserve static shape information, so set the shapes\r\n",
    "  # manually. This way the `tf.data.Datasets` are easier to inspect.\r\n",
    "  inputs.set_shape([None, self.input_width, None])\r\n",
    "  labels.set_shape([None, self.label_width, None])\r\n",
    "\r\n",
    "  return inputs, labels\r\n",
    "\r\n",
    "WindowGenerator.split_window = split_window"
   ]
  },
  {
   "cell_type": "code",
   "execution_count": 8,
   "metadata": {},
   "outputs": [
    {
     "data": {
      "text/plain": "Total window size: 48\nInput indices: [ 0  1  2  3  4  5  6  7  8  9 10 11 12 13 14 15 16 17 18 19 20 21 22 23]\nLabel indices: [47]\nLabel column name(s): ['Close']"
     },
     "execution_count": 8,
     "metadata": {},
     "output_type": "execute_result"
    }
   ],
   "source": [
    "w1 = WindowGenerator(input_width=24, label_width=1, shift=24,\r\n",
    "                     label_columns=['Close'])\r\n",
    "w1.split_window"
   ]
  },
  {
   "cell_type": "code",
   "execution_count": 16,
   "metadata": {},
   "outputs": [
    {
     "name": "stdout",
     "output_type": "stream",
     "text": [
      "All shapes are: (batch, time, features)\n",
      "Window shape: (3, 7, 8)\n",
      "Inputs shape: (3, 6, 8)\n",
      "labels shape: (3, 1, 1)\n"
     ]
    }
   ],
   "source": [
    "w1 = WindowGenerator(input_width=24, label_width=1, shift=24,\r\n",
    "                     label_columns=['Close'])\r\n",
    "w2 = WindowGenerator(input_width=6, label_width=1, shift=1,\r\n",
    "                     label_columns=['Close'])\r\n",
    "# Stack three slices, the length of the total window:\r\n",
    "example_window = tf.stack([np.array(train_df[:w2.total_window_size]),\r\n",
    "                           np.array(train_df[100:100+w2.total_window_size]),\r\n",
    "                           np.array(train_df[200:200+w2.total_window_size])])\r\n",
    "\r\n",
    "\r\n",
    "example_inputs, example_labels = w2.split_window(example_window)\r\n",
    "\r\n",
    "print('All shapes are: (batch, time, features)')\r\n",
    "print(f'Window shape: {example_window.shape}')\r\n",
    "print(f'Inputs shape: {example_inputs.shape}')\r\n",
    "print(f'labels shape: {example_labels.shape}')"
   ]
  },
  {
   "cell_type": "code",
   "execution_count": 17,
   "metadata": {},
   "outputs": [],
   "source": [
    "w2.example = example_inputs, example_labels"
   ]
  },
  {
   "cell_type": "code",
   "execution_count": 27,
   "metadata": {},
   "outputs": [],
   "source": [
    "def plot(self, model=None, plot_col='Close', max_subplots=3):\r\n",
    "  inputs, labels = self.example\r\n",
    "  plt.figure(figsize=(12, 8))\r\n",
    "  plot_col_index = self.column_indices[plot_col]\r\n",
    "  max_n = min(max_subplots, len(inputs))\r\n",
    "  for n in range(max_n):\r\n",
    "    plt.subplot(3, 1, n+1)\r\n",
    "    plt.ylabel(f'{plot_col} [normed]')\r\n",
    "    plt.plot(self.input_indices, inputs[n, :, plot_col_index],\r\n",
    "             label='Inputs', marker='.', zorder=-10)\r\n",
    "\r\n",
    "    if self.label_columns:\r\n",
    "      label_col_index = self.label_columns_indices.get(plot_col, None)\r\n",
    "    else:\r\n",
    "      label_col_index = plot_col_index\r\n",
    "\r\n",
    "    if label_col_index is None:\r\n",
    "      continue\r\n",
    "\r\n",
    "    plt.scatter(self.label_indices, labels[n, :, label_col_index],\r\n",
    "                edgecolors='k', label='Labels', c='#2ca02c', s=64)\r\n",
    "    if model is not None:\r\n",
    "      predictions = model(inputs)\r\n",
    "      plt.scatter(self.label_indices, predictions[n, :, label_col_index],\r\n",
    "                  marker='X', edgecolors='k', label='Predictions',\r\n",
    "                  c='#ff7f0e', s=64)\r\n",
    "\r\n",
    "    if n == 0:\r\n",
    "      plt.legend()\r\n",
    "\r\n",
    "  plt.xlabel('Time [h]')\r\n",
    "\r\n",
    "WindowGenerator.plot = plot"
   ]
  },
  {
   "cell_type": "code",
   "execution_count": 28,
   "metadata": {},
   "outputs": [],
   "source": [
    "def make_dataset(self, data):\r\n",
    "  data = np.array(data, dtype=np.float32)\r\n",
    "  ds = tf.keras.preprocessing.timeseries_dataset_from_array(\r\n",
    "      data=data,\r\n",
    "      targets=None,\r\n",
    "      sequence_length=self.total_window_size,\r\n",
    "      sequence_stride=1,\r\n",
    "      shuffle=True,\r\n",
    "      batch_size=32,)\r\n",
    "\r\n",
    "  ds = ds.map(self.split_window)\r\n",
    "\r\n",
    "  return ds\r\n",
    "\r\n",
    "WindowGenerator.make_dataset = make_dataset"
   ]
  },
  {
   "cell_type": "code",
   "execution_count": 29,
   "metadata": {},
   "outputs": [],
   "source": [
    "@property\r\n",
    "def train(self):\r\n",
    "  return self.make_dataset(self.train_df)\r\n",
    "\r\n",
    "@property\r\n",
    "def val(self):\r\n",
    "  return self.make_dataset(self.val_df)\r\n",
    "\r\n",
    "@property\r\n",
    "def test(self):\r\n",
    "  return self.make_dataset(self.test_df)\r\n",
    "\r\n",
    "@property\r\n",
    "def example(self):\r\n",
    "  \"\"\"Get and cache an example batch of `inputs, labels` for plotting.\"\"\"\r\n",
    "  result = getattr(self, '_example', None)\r\n",
    "  if result is None:\r\n",
    "    # No example batch was found, so get one from the `.train` dataset\r\n",
    "    result = next(iter(self.train))\r\n",
    "    # And cache it for next time\r\n",
    "    self._example = result\r\n",
    "  return result\r\n",
    "\r\n",
    "WindowGenerator.train = train\r\n",
    "WindowGenerator.val = val\r\n",
    "WindowGenerator.test = test\r\n",
    "WindowGenerator.example = example"
   ]
  },
  {
   "cell_type": "code",
   "execution_count": 31,
   "metadata": {},
   "outputs": [
    {
     "data": {
      "text/plain": "Total window size: 25\nInput indices: [ 0  1  2  3  4  5  6  7  8  9 10 11 12 13 14 15 16 17 18 19 20 21 22 23]\nLabel indices: [ 1  2  3  4  5  6  7  8  9 10 11 12 13 14 15 16 17 18 19 20 21 22 23 24]\nLabel column name(s): ['Close']"
     },
     "execution_count": 31,
     "metadata": {},
     "output_type": "execute_result"
    }
   ],
   "source": [
    "wide_window = WindowGenerator(\r\n",
    "    input_width=24, label_width=24, shift=1,\r\n",
    "    label_columns=['Close'])\r\n",
    "\r\n",
    "wide_window"
   ]
  },
  {
   "cell_type": "code",
   "execution_count": 40,
   "metadata": {},
   "outputs": [],
   "source": [
    "MAX_EPOCHS = 1000\r\n",
    "\r\n",
    "def compile_and_fit(model, window, patience=2):\r\n",
    "  early_stopping = tf.keras.callbacks.EarlyStopping(monitor='val_loss',\r\n",
    "                                                    patience=patience,\r\n",
    "                                                    mode='min')\r\n",
    "\r\n",
    "  model.compile(loss=tf.losses.MeanSquaredError(),\r\n",
    "                optimizer=tf.optimizers.Adam(),\r\n",
    "                metrics=[tf.metrics.MeanAbsoluteError()])\r\n",
    "\r\n",
    "  history = model.fit(window.train, epochs=MAX_EPOCHS,\r\n",
    "                      validation_data=window.val,\r\n",
    "                      callbacks=[early_stopping])\r\n",
    "  return history"
   ]
  },
  {
   "cell_type": "code",
   "execution_count": 41,
   "metadata": {},
   "outputs": [
    {
     "name": "stdout",
     "output_type": "stream",
     "text": [
      "63/63 [==============================] - 0s 2ms/step - loss: 309.1029 - mean_absolute_error: 15.8189\n"
     ]
    }
   ],
   "source": [
    "lstm_model = tf.keras.models.Sequential([\r\n",
    "    # Shape [batch, time, features] => [batch, time, lstm_units]\r\n",
    "    tf.keras.layers.LSTM(32, return_sequences=True),\r\n",
    "    # Shape => [batch, time, features]\r\n",
    "    tf.keras.layers.Dense(units=1)\r\n",
    "])\r\n",
    "\r\n",
    "history = compile_and_fit(lstm_model, wide_window)\r\n",
    "\r\n",
    "IPython.display.clear_output()\r\n",
    "val_performance= lstm_model.evaluate(wide_window.val)\r\n",
    "performance= lstm_model.evaluate(wide_window.test, verbose=0)"
   ]
  },
  {
   "cell_type": "code",
   "execution_count": 43,
   "metadata": {},
   "outputs": [
    {
     "data": {
      "image/png": "[encoded data removed]",
      "text/plain": "<Figure size 864x576 with 3 Axes>"
     },
     "metadata": {
      "needs_background": "light"
     },
     "output_type": "display_data"
    }
   ],
   "source": [
    "wide_window.plot(lstm_model)"
   ]
  }
 ],
 "metadata": {
  "kernelspec": {
   "display_name": "Python 3.8.7 64-bit",
   "metadata": {
    "interpreter": {
     "hash": "95ab7303ed2746327945aa376054eddca8c4eca362915ff95db932dbe7e7ee41"
    }
   },
   "name": "python3"
  },
  "language_info": {
   "codemirror_mode": {
    "name": "ipython",
    "version": 3
   },
   "file_extension": ".py",
   "mimetype": "text/x-python",
   "name": "python",
   "nbconvert_exporter": "python",
   "pygments_lexer": "ipython3",
   "version": "3.8.7"
  },
  "orig_nbformat": 2
 },
 "nbformat": 4,
 "nbformat_minor": 2
}
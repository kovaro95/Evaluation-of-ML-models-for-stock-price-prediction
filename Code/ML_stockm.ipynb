{
  "nbformat": 4,
  "nbformat_minor": 0,
  "metadata": {
    "kernelspec": {
      "name": "python3",
      "display_name": "Python 3"
    },
    "colab": {
      "name": "ML_stockm.ipynb",
      "provenance": []
    },
    "accelerator": "GPU"
  },
  "cells": [
    {
      "cell_type": "code",
      "metadata": {
        "id": "d9w1RXOBFtuq"
      },
      "source": [
        "import pandas as pd \n",
        "import numpy as np\n",
        "from pandas_datareader import data as pdr\n",
        "import yfinance as yf #yahoo finance stock data\n",
        "import datetime\n",
        "import matplotlib.pyplot as plt\n",
        "from math import sqrt\n",
        "\n",
        "import tensorflow\n",
        "from tensorflow import keras\n",
        "\n",
        "from sklearn.linear_model import LinearRegression,ElasticNet\n",
        "from sklearn.ensemble import RandomForestRegressor\n",
        "\n",
        "stock=\"GOOG\"\n",
        "period=14"
      ],
      "execution_count": 5,
      "outputs": []
    },
    {
      "cell_type": "code",
      "metadata": {
        "tags": [],
        "id": "bjMUoGXZFtut"
      },
      "source": [
        "end=datetime.date(2020,1,1)\n",
        "\n",
        "base=255*3\n",
        "delta_d=datetime.timedelta(days=base)\n",
        "delta_m=datetime.timedelta(minutes=base)\n",
        "delta_t=datetime.timedelta(minutes=(base*30))\n",
        "delta_h=datetime.timedelta(hours=base)\n",
        "delta_w=datetime.timedelta(weeks=base)"
      ],
      "execution_count": 48,
      "outputs": []
    },
    {
      "cell_type": "code",
      "metadata": {
        "id": "Fc28hRGpUKop",
        "outputId": "5c9e6e1c-e373-4c22-8692-66c4d0034336",
        "colab": {
          "base_uri": "https://localhost:8080/"
        }
      },
      "source": [
        "(end-delta_m),end"
      ],
      "execution_count": 50,
      "outputs": [
        {
          "output_type": "execute_result",
          "data": {
            "text/plain": [
              "(datetime.date(2020, 1, 1), datetime.date(2020, 1, 1))"
            ]
          },
          "metadata": {
            "tags": []
          },
          "execution_count": 50
        }
      ]
    },
    {
      "cell_type": "code",
      "metadata": {
        "id": "I-gUmUzFOj0G",
        "outputId": "3d803059-f4af-4503-9813-ed1413e0850d",
        "colab": {
          "base_uri": "https://localhost:8080/"
        }
      },
      "source": [
        "min=yf.download(tickers=stock,startdate=end-delta_m,enddate=end,interval=\"1m\") #period=\"3d\",\n",
        "thirt_min=yf.download(tickers=stock,startdate=end-delta_t,enddate=end, interval=\"30m\")#,period=\"31d\"\n",
        "hour=yf.download(tickers=stock,startdate=end-delta_h,enddate=end,interval=\"1h\")#,period=\"122d\"\n",
        "daily=yf.download(tickers=stock,startdate=end-delta_d,enddate=end,interval=\"1d\")#,period=\"765d\"\n",
        "week=yf.download(tickers=stock,startdate=end-delta_w,enddate=end,interval=\"1wk\")#,period=\"3650d\""
      ],
      "execution_count": 42,
      "outputs": [
        {
          "output_type": "stream",
          "text": [
            "[*********************100%***********************]  1 of 1 completed\n",
            "\n",
            "1 Failed download:\n",
            "- GOOG: 1m data not available for startTime=1092922200 and endTime=1604259343. Only 7 days worth of 1m granularity data are allowed to be fetched per request.\n",
            "[*********************100%***********************]  1 of 1 completed\n",
            "\n",
            "1 Failed download:\n",
            "- GOOG: 15m data not available for startTime=1092922200 and endTime=1604259343. The requested range must be within the last 60 days.\n",
            "[*********************100%***********************]  1 of 1 completed\n",
            "\n",
            "1 Failed download:\n",
            "- GOOG: 1h data not available for startTime=1092922200 and endTime=1604259344. The requested range must be within the last 730 days.\n",
            "[*********************100%***********************]  1 of 1 completed\n",
            "[*********************100%***********************]  1 of 1 completed\n"
          ],
          "name": "stdout"
        }
      ]
    },
    {
      "cell_type": "code",
      "metadata": {
        "id": "DgivY5x3P46R",
        "outputId": "bd279238-abb3-4150-cf08-34decf18d553",
        "colab": {
          "base_uri": "https://localhost:8080/"
        }
      },
      "source": [
        "min.shape,thirt_min.shape,daily.shape"
      ],
      "execution_count": 41,
      "outputs": [
        {
          "output_type": "execute_result",
          "data": {
            "text/plain": [
              "((1164, 6), (403, 6), (765, 6))"
            ]
          },
          "metadata": {
            "tags": []
          },
          "execution_count": 41
        }
      ]
    },
    {
      "cell_type": "code",
      "metadata": {
        "id": "UTBpXURtFtuw"
      },
      "source": [
        "def Prepare_dataset(df):\n",
        "    from sklearn.model_selection import train_test_split\n",
        "\n",
        "    typ_price=(df.Close + df.High+df.Low)/3\n",
        "    mf=typ_price*df.Volume\n",
        "\n",
        "    pos_flow=[]\n",
        "    neg_flow=[]\n",
        "\n",
        "    for i in range(0,len(typ_price)):\n",
        "        if typ_price[i]>typ_price[i-1]:\n",
        "            pos_flow.append(mf[i-1])\n",
        "            neg_flow.append(0)\n",
        "        elif typ_price[i]<typ_price[i-1]:\n",
        "            pos_flow.append(0)\n",
        "            neg_flow.append(mf[i-1])\n",
        "        else:\n",
        "            pos_flow.append(0)\n",
        "            neg_flow.append(0)\n",
        "        \n",
        "    pos_mf=[]\n",
        "    neg_mf=[]\n",
        "\n",
        "    for i in range(period-1,len(pos_flow)):\n",
        "        pos_mf.append(sum(pos_flow[i+1-period:i]))\n",
        "\n",
        "    for i in range(period-1,len(neg_flow)):\n",
        "        neg_mf.append(sum(neg_flow[i+1-period:i]))\n",
        "\n",
        "    mf_ratio=np.array(pos_mf)/np.array(neg_mf)\n",
        "\n",
        "    mfi=100-100/(1+mf_ratio)\n",
        "    df=df.iloc[13:,:]\n",
        "\n",
        "    df[\"MFI\"]=mfi\n",
        "\n",
        "    y=df.iloc[:-1,:][\"Adj Close\"].shift(-1)\n",
        "    y.fillna(method='ffill', inplace=True)\n",
        "    X=df.iloc[:-1,:].fillna(method='ffill')\n",
        "\n",
        "    return train_test_split(X, y, test_size=0.4, random_state=0)\n",
        "\n",
        "def Rmse(y,y_pred):\n",
        "    return np.sqrt(((y_pred - y) ** 2).mean())"
      ],
      "execution_count": 7,
      "outputs": []
    },
    {
      "cell_type": "code",
      "metadata": {
        "id": "HtQ3q5lAFtuz",
        "outputId": "465d04cc-aa83-4502-8415-4d39ddae5dc1",
        "colab": {
          "base_uri": "https://localhost:8080/"
        }
      },
      "source": [
        "datasets={}\n",
        "datasets[\"1m\"]=Prepare_dataset(min)\n",
        "datasets[\"30m\"]=Prepare_dataset(thirt_min)\n",
        "datasets[\"1h\"]=Prepare_dataset(hour)\n",
        "datasets[\"D\"]=Prepare_dataset(daily)\n",
        "datasets[\"W\"]=Prepare_dataset(week)"
      ],
      "execution_count": 10,
      "outputs": [
        {
          "output_type": "stream",
          "text": [
            "/usr/local/lib/python3.6/dist-packages/ipykernel_launcher.py:35: SettingWithCopyWarning: \n",
            "A value is trying to be set on a copy of a slice from a DataFrame.\n",
            "Try using .loc[row_indexer,col_indexer] = value instead\n",
            "\n",
            "See the caveats in the documentation: https://pandas.pydata.org/pandas-docs/stable/user_guide/indexing.html#returning-a-view-versus-a-copy\n",
            "/usr/local/lib/python3.6/dist-packages/ipykernel_launcher.py:30: RuntimeWarning: divide by zero encountered in true_divide\n"
          ],
          "name": "stderr"
        }
      ]
    },
    {
      "cell_type": "code",
      "metadata": {
        "id": "e1-7jzbkFtu1"
      },
      "source": [
        "from sklearn.linear_model import LinearRegression"
      ],
      "execution_count": 11,
      "outputs": []
    },
    {
      "cell_type": "code",
      "metadata": {
        "id": "5Bf8VzDYFtu3",
        "outputId": "5bb76212-8fd1-4e48-f5d5-dc721ee0179a",
        "colab": {
          "base_uri": "https://localhost:8080/"
        }
      },
      "source": [
        "result=pd.DataFrame(columns=[\"1m\",\"30m\",\"1h\",\"D\",\"W\"])\n",
        "\n",
        "for key in datasets:\n",
        "    X_train=datasets[key][0]\n",
        "    X_test=datasets[key][1]\n",
        "    y_train=datasets[key][2]\n",
        "    y_test=datasets[key][3]\n",
        "\n",
        "    elastic=ElasticNet().fit(X_train, y_train)\n",
        "    elastic_preds=elastic.predict(X_test)\n",
        "\n",
        "    result.loc[\"Elastic net\",key]=[Rmse(y_test,elastic_preds)]\n",
        "\n",
        "    rf=RandomForestRegressor(n_estimators=100,max_depth=12,random_state=0).fit(X_train, y_train)\n",
        "    rf_preds=rf.predict(X_test)\n",
        "\n",
        "    result.loc[\"Random forest\",key]=[Rmse(y_test,rf_preds)]\n"
      ],
      "execution_count": 12,
      "outputs": [
        {
          "output_type": "stream",
          "text": [
            "/usr/local/lib/python3.6/dist-packages/sklearn/linear_model/_coordinate_descent.py:476: ConvergenceWarning: Objective did not converge. You might want to increase the number of iterations. Duality gap: 310.07808451129495, tolerance: 126.0940649360505\n",
            "  positive)\n",
            "/usr/local/lib/python3.6/dist-packages/sklearn/linear_model/_coordinate_descent.py:476: ConvergenceWarning: Objective did not converge. You might want to increase the number of iterations. Duality gap: 132.81549874525444, tolerance: 95.94946076772237\n",
            "  positive)\n",
            "/usr/local/lib/python3.6/dist-packages/sklearn/linear_model/_coordinate_descent.py:476: ConvergenceWarning: Objective did not converge. You might want to increase the number of iterations. Duality gap: 18484.700906057435, tolerance: 288.375622044715\n",
            "  positive)\n",
            "/usr/local/lib/python3.6/dist-packages/sklearn/linear_model/_coordinate_descent.py:476: ConvergenceWarning: Objective did not converge. You might want to increase the number of iterations. Duality gap: 77423.59205882886, tolerance: 1215.9246841166032\n",
            "  positive)\n",
            "/usr/local/lib/python3.6/dist-packages/sklearn/linear_model/_coordinate_descent.py:476: ConvergenceWarning: Objective did not converge. You might want to increase the number of iterations. Duality gap: 125690.1302741434, tolerance: 6846.813923785365\n",
            "  positive)\n"
          ],
          "name": "stderr"
        }
      ]
    },
    {
      "cell_type": "code",
      "metadata": {
        "id": "eT6CAKENFtu6",
        "outputId": "f6ca11c3-60f9-45c7-d1ab-0c80bacd9dc0",
        "colab": {
          "base_uri": "https://localhost:8080/",
          "height": 111
        }
      },
      "source": [
        "result"
      ],
      "execution_count": 13,
      "outputs": [
        {
          "output_type": "execute_result",
          "data": {
            "text/html": [
              "<div>\n",
              "<style scoped>\n",
              "    .dataframe tbody tr th:only-of-type {\n",
              "        vertical-align: middle;\n",
              "    }\n",
              "\n",
              "    .dataframe tbody tr th {\n",
              "        vertical-align: top;\n",
              "    }\n",
              "\n",
              "    .dataframe thead th {\n",
              "        text-align: right;\n",
              "    }\n",
              "</style>\n",
              "<table border=\"1\" class=\"dataframe\">\n",
              "  <thead>\n",
              "    <tr style=\"text-align: right;\">\n",
              "      <th></th>\n",
              "      <th>1m</th>\n",
              "      <th>30m</th>\n",
              "      <th>1h</th>\n",
              "      <th>D</th>\n",
              "      <th>W</th>\n",
              "    </tr>\n",
              "  </thead>\n",
              "  <tbody>\n",
              "    <tr>\n",
              "      <th>Elastic net</th>\n",
              "      <td>[5.120252196919519]</td>\n",
              "      <td>[9.882863502639127]</td>\n",
              "      <td>[9.211757395650759]</td>\n",
              "      <td>[23.45388415427078]</td>\n",
              "      <td>[26.556752412361632]</td>\n",
              "    </tr>\n",
              "    <tr>\n",
              "      <th>Random forest</th>\n",
              "      <td>[5.325712002910218]</td>\n",
              "      <td>[8.964527937752607]</td>\n",
              "      <td>[11.022239225635754]</td>\n",
              "      <td>[26.193195325498692]</td>\n",
              "      <td>[28.673122278499992]</td>\n",
              "    </tr>\n",
              "  </tbody>\n",
              "</table>\n",
              "</div>"
            ],
            "text/plain": [
              "                                1m  ...                     W\n",
              "Elastic net    [5.120252196919519]  ...  [26.556752412361632]\n",
              "Random forest  [5.325712002910218]  ...  [28.673122278499992]\n",
              "\n",
              "[2 rows x 5 columns]"
            ]
          },
          "metadata": {
            "tags": []
          },
          "execution_count": 13
        }
      ]
    },
    {
      "cell_type": "code",
      "metadata": {
        "id": "9gwVEeKTFtu_"
      },
      "source": [
        ""
      ],
      "execution_count": null,
      "outputs": []
    }
  ]
}
{
  "nbformat": 4,
  "nbformat_minor": 0,
  "metadata": {
    "kernelspec": {
      "name": "python3",
      "display_name": "Python 3"
    },
    "colab": {
      "name": "ML_stockm.ipynb",
      "provenance": []
    },
    "accelerator": "GPU"
  },
  "cells": [
    {
      "cell_type": "code",
      "metadata": {
        "id": "d9w1RXOBFtuq",
        "outputId": "17c7c80d-bd10-4949-a4b1-0c9b3b0bfbbd",
        "colab": {
          "base_uri": "https://localhost:8080/"
        }
      },
      "source": [
        "import pandas as pd \n",
        "import numpy as np\n",
        "from pandas_datareader import data as pdr\n",
        "!pip install yfinance\n",
        "import yfinance as yf #yahoo finance stock data\n",
        "import datetime\n",
        "import matplotlib.pyplot as plt\n",
        "from math import sqrt\n",
        "\n",
        "import tensorflow\n",
        "from tensorflow import keras\n",
        "\n",
        "from statsmodels.tsa.stattools import adfuller\n",
        "\n",
        "from sklearn.linear_model import LinearRegression,ElasticNet\n",
        "from sklearn.ensemble import RandomForestRegressor\n",
        "\n",
        "stock=\"GOOG\"\n",
        "period=14"
      ],
      "execution_count": null,
      "outputs": [
        {
          "output_type": "stream",
          "text": [
            "Requirement already satisfied: yfinance in /usr/local/lib/python3.6/dist-packages (0.1.55)\n",
            "Requirement already satisfied: numpy>=1.15 in /usr/local/lib/python3.6/dist-packages (from yfinance) (1.18.5)\n",
            "Requirement already satisfied: pandas>=0.24 in /usr/local/lib/python3.6/dist-packages (from yfinance) (1.1.3)\n",
            "Requirement already satisfied: multitasking>=0.0.7 in /usr/local/lib/python3.6/dist-packages (from yfinance) (0.0.9)\n",
            "Requirement already satisfied: lxml>=4.5.1 in /usr/local/lib/python3.6/dist-packages (from yfinance) (4.6.1)\n",
            "Requirement already satisfied: requests>=2.20 in /usr/local/lib/python3.6/dist-packages (from yfinance) (2.23.0)\n",
            "Requirement already satisfied: pytz>=2017.2 in /usr/local/lib/python3.6/dist-packages (from pandas>=0.24->yfinance) (2018.9)\n",
            "Requirement already satisfied: python-dateutil>=2.7.3 in /usr/local/lib/python3.6/dist-packages (from pandas>=0.24->yfinance) (2.8.1)\n",
            "Requirement already satisfied: idna<3,>=2.5 in /usr/local/lib/python3.6/dist-packages (from requests>=2.20->yfinance) (2.10)\n",
            "Requirement already satisfied: chardet<4,>=3.0.2 in /usr/local/lib/python3.6/dist-packages (from requests>=2.20->yfinance) (3.0.4)\n",
            "Requirement already satisfied: certifi>=2017.4.17 in /usr/local/lib/python3.6/dist-packages (from requests>=2.20->yfinance) (2020.6.20)\n",
            "Requirement already satisfied: urllib3!=1.25.0,!=1.25.1,<1.26,>=1.21.1 in /usr/local/lib/python3.6/dist-packages (from requests>=2.20->yfinance) (1.24.3)\n",
            "Requirement already satisfied: six>=1.5 in /usr/local/lib/python3.6/dist-packages (from python-dateutil>=2.7.3->pandas>=0.24->yfinance) (1.15.0)\n"
          ],
          "name": "stdout"
        }
      ]
    },
    {
      "cell_type": "code",
      "metadata": {
        "tags": [],
        "id": "bjMUoGXZFtut"
      },
      "source": [
        "end=datetime.datetime(2019,6,15,0,0,0)"
      ],
      "execution_count": null,
      "outputs": []
    },
    {
      "cell_type": "code",
      "metadata": {
        "id": "I-gUmUzFOj0G",
        "outputId": "84dee8b7-6a91-40e9-8844-b27d91b97f3d",
        "colab": {
          "base_uri": "https://localhost:8080/"
        }
      },
      "source": [
        "min=yf.download(tickers=stock,period=\"3d\",enddate=end,interval=\"1m\")\n",
        "thirt_min=yf.download(tickers=stock,period=\"60d\",enddate=end, interval=\"30m\")\n",
        "hour=yf.download(tickers=stock,period=\"150d\",enddate=end,interval=\"1h\")\n",
        "daily=yf.download(tickers=stock,period=\"1000d\",enddate=end,interval=\"1d\")\n",
        "weekly=yf.download(tickers=stock,period=\"3800d\",enddate=end,interval=\"1wk\")"
      ],
      "execution_count": null,
      "outputs": [
        {
          "output_type": "stream",
          "text": [
            "[*********************100%***********************]  1 of 1 completed\n",
            "[*********************100%***********************]  1 of 1 completed\n",
            "[*********************100%***********************]  1 of 1 completed\n",
            "[*********************100%***********************]  1 of 1 completed\n",
            "[*********************100%***********************]  1 of 1 completed\n"
          ],
          "name": "stdout"
        }
      ]
    },
    {
      "cell_type": "code",
      "metadata": {
        "id": "UTBpXURtFtuw"
      },
      "source": [
        "def Prepare_dataset(df):\n",
        "    from sklearn.model_selection import train_test_split\n",
        "\n",
        "    typ_price=(df.Close + df.High+df.Low)/3\n",
        "    mf=typ_price*df.Volume\n",
        "\n",
        "    pos_flow=[]\n",
        "    neg_flow=[]\n",
        "\n",
        "    for i in range(0,len(typ_price)):\n",
        "        if typ_price[i]>typ_price[i-1]:\n",
        "            pos_flow.append(mf[i-1])\n",
        "            neg_flow.append(0)\n",
        "        elif typ_price[i]<typ_price[i-1]:\n",
        "            pos_flow.append(0)\n",
        "            neg_flow.append(mf[i-1])\n",
        "        else:\n",
        "            pos_flow.append(0)\n",
        "            neg_flow.append(0)\n",
        "        \n",
        "    pos_mf=[]\n",
        "    neg_mf=[]\n",
        "\n",
        "    for i in range(period-1,len(pos_flow)):\n",
        "        pos_mf.append(sum(pos_flow[i+1-period:i]))\n",
        "\n",
        "    for i in range(period-1,len(neg_flow)):\n",
        "        neg_mf.append(sum(neg_flow[i+1-period:i]))\n",
        "\n",
        "    mf_ratio=np.array(pos_mf)/np.array(neg_mf)\n",
        "\n",
        "    mfi=100-100/(1+mf_ratio)\n",
        "    df=df.iloc[13:,:]\n",
        "\n",
        "    df[\"MFI\"]=mfi\n",
        "\n",
        "    df.dropna(inplace=True,how=\"all\",axis=0)\n",
        "\n",
        "    y=df.iloc[:-1,:][\"Adj Close\"].shift(-1)\n",
        "    y.fillna(method='ffill', inplace=True)\n",
        "    y=y.iloc[-755:]\n",
        "    X=df.iloc[:-1,:].fillna(method='ffill')\n",
        "    X=X.iloc[-755:]\n",
        "    return train_test_split(X, y, test_size=0.4, random_state=0)\n",
        "\n",
        "def Rmse(y,y_pred):\n",
        "    return np.sqrt(((y_pred - y) ** 2).mean())\n",
        "  \n",
        "def Arima_build(ts_train,ts_test):\n",
        "\n",
        "  def arimamodel(timeseriesarray):\n",
        "    import pmdarima as pmd\n",
        "    autoarima_model = pmd.auto_arima(timeseriesarray, \n",
        "                              start_p=1,\n",
        "                              max_p=5,\n",
        "                              start_q=1,\n",
        "                              max_q=5,\n",
        "                              test=\"adf\",\n",
        "                              max_order=5,\n",
        "                              seasonal_test=\"OCSB\",\n",
        "                              stepwise=False,\n",
        "                              n_jobs=-1,\n",
        "                              trace=True)\n",
        "    return autoarima_model\n",
        "\n",
        "  arima_model = arimamodel(ts_train)\n",
        "  preds=arima_model.predict(len(ts_test))\n",
        "  return ts_test\n"
      ],
      "execution_count": null,
      "outputs": []
    },
    {
      "cell_type": "code",
      "metadata": {
        "id": "HtQ3q5lAFtuz"
      },
      "source": [
        "datasets={}\n",
        "datasets[\"1m\"]=Prepare_dataset(min)\n",
        "datasets[\"30m\"]=Prepare_dataset(thirt_min)\n",
        "datasets[\"1h\"]=Prepare_dataset(hour)\n",
        "datasets[\"D\"]=Prepare_dataset(daily)\n",
        "datasets[\"W\"]=Prepare_dataset(weekly)"
      ],
      "execution_count": null,
      "outputs": []
    },
    {
      "cell_type": "code",
      "metadata": {
        "id": "e1-7jzbkFtu1"
      },
      "source": [
        "from sklearn.linear_model import LinearRegression"
      ],
      "execution_count": null,
      "outputs": []
    },
    {
      "cell_type": "code",
      "metadata": {
        "id": "5Bf8VzDYFtu3",
        "outputId": "b1cc2a3f-fb51-4102-a68e-08ba2dd6d25e",
        "colab": {
          "base_uri": "https://localhost:8080/"
        }
      },
      "source": [
        "result=pd.DataFrame(columns=[\"1m\",\"30m\",\"1h\",\"D\",\"W\"])\n",
        "\n",
        "for key in datasets:\n",
        "    X_train=datasets[key][0]\n",
        "    X_test=datasets[key][1]\n",
        "    y_train=datasets[key][2]\n",
        "    y_test=datasets[key][3]\n",
        "\n",
        "    elastic=ElasticNet().fit(X_train, y_train)\n",
        "    elastic_preds=elastic.predict(X_test)\n",
        "\n",
        "    result.loc[\"Elastic net\",key]=[Rmse(y_test,elastic_preds)]\n",
        "\n",
        "    rf=RandomForestRegressor(n_estimators=100,max_depth=12,random_state=0).fit(X_train, y_train)\n",
        "    rf_preds=rf.predict(X_test)\n",
        "\n",
        "    result.loc[\"Random forest\",key]=[Rmse(y_test,rf_preds)]\n",
        "\n",
        "    arima_preds=Arima_build(datasets[key][0][\"Close\"],datasets[key][1][\"Close\"])\n",
        "\n",
        "    result.loc[\"Arima\",key]=[Rmse(arima_preds,rf_preds)]"
      ],
      "execution_count": null,
      "outputs": [
        {
          "output_type": "stream",
          "text": [
            "/usr/local/lib/python3.6/dist-packages/sklearn/linear_model/_coordinate_descent.py:476: ConvergenceWarning: Objective did not converge. You might want to increase the number of iterations. Duality gap: 114.78583397705165, tolerance: 51.5743301150881\n",
            "  positive)\n"
          ],
          "name": "stderr"
        },
        {
          "output_type": "stream",
          "text": [
            "Total fit time: 11.516 seconds\n"
          ],
          "name": "stdout"
        },
        {
          "output_type": "stream",
          "text": [
            "/usr/local/lib/python3.6/dist-packages/sklearn/linear_model/_coordinate_descent.py:476: ConvergenceWarning: Objective did not converge. You might want to increase the number of iterations. Duality gap: 238.4765068784909, tolerance: 186.03852314214794\n",
            "  positive)\n"
          ],
          "name": "stderr"
        },
        {
          "output_type": "stream",
          "text": [
            "Total fit time: 11.597 seconds\n"
          ],
          "name": "stdout"
        },
        {
          "output_type": "stream",
          "text": [
            "/usr/local/lib/python3.6/dist-packages/sklearn/linear_model/_coordinate_descent.py:476: ConvergenceWarning: Objective did not converge. You might want to increase the number of iterations. Duality gap: 9018.930257062086, tolerance: 222.76694316851308\n",
            "  positive)\n"
          ],
          "name": "stderr"
        },
        {
          "output_type": "stream",
          "text": [
            "Total fit time: 11.637 seconds\n"
          ],
          "name": "stdout"
        },
        {
          "output_type": "stream",
          "text": [
            "/usr/local/lib/python3.6/dist-packages/sklearn/linear_model/_coordinate_descent.py:476: ConvergenceWarning: Objective did not converge. You might want to increase the number of iterations. Duality gap: 118884.2718693269, tolerance: 1307.486914894378\n",
            "  positive)\n"
          ],
          "name": "stderr"
        },
        {
          "output_type": "stream",
          "text": [
            "Total fit time: 11.588 seconds\n"
          ],
          "name": "stdout"
        },
        {
          "output_type": "stream",
          "text": [
            "/usr/local/lib/python3.6/dist-packages/sklearn/linear_model/_coordinate_descent.py:476: ConvergenceWarning: Objective did not converge. You might want to increase the number of iterations. Duality gap: 150275.9145895186, tolerance: 7203.100387525364\n",
            "  positive)\n"
          ],
          "name": "stderr"
        },
        {
          "output_type": "stream",
          "text": [
            "Total fit time: 11.692 seconds\n"
          ],
          "name": "stdout"
        }
      ]
    },
    {
      "cell_type": "code",
      "metadata": {
        "id": "eT6CAKENFtu6",
        "outputId": "f691870d-cbcb-4392-8a37-7021bc5bc551",
        "colab": {
          "base_uri": "https://localhost:8080/",
          "height": 142
        }
      },
      "source": [
        "result"
      ],
      "execution_count": null,
      "outputs": [
        {
          "output_type": "execute_result",
          "data": {
            "text/html": [
              "<div>\n",
              "<style scoped>\n",
              "    .dataframe tbody tr th:only-of-type {\n",
              "        vertical-align: middle;\n",
              "    }\n",
              "\n",
              "    .dataframe tbody tr th {\n",
              "        vertical-align: top;\n",
              "    }\n",
              "\n",
              "    .dataframe thead th {\n",
              "        text-align: right;\n",
              "    }\n",
              "</style>\n",
              "<table border=\"1\" class=\"dataframe\">\n",
              "  <thead>\n",
              "    <tr style=\"text-align: right;\">\n",
              "      <th></th>\n",
              "      <th>1m</th>\n",
              "      <th>30m</th>\n",
              "      <th>1h</th>\n",
              "      <th>D</th>\n",
              "      <th>W</th>\n",
              "    </tr>\n",
              "  </thead>\n",
              "  <tbody>\n",
              "    <tr>\n",
              "      <th>Elastic net</th>\n",
              "      <td>[6.38428395286416]</td>\n",
              "      <td>[8.978426893072285]</td>\n",
              "      <td>[11.483670620161837]</td>\n",
              "      <td>[21.533698276421553]</td>\n",
              "      <td>[22.564461634331725]</td>\n",
              "    </tr>\n",
              "    <tr>\n",
              "      <th>Random forest</th>\n",
              "      <td>[6.319696658781507]</td>\n",
              "      <td>[9.014506226041245]</td>\n",
              "      <td>[11.835937329122274]</td>\n",
              "      <td>[24.4550716516014]</td>\n",
              "      <td>[25.27843993152649]</td>\n",
              "    </tr>\n",
              "    <tr>\n",
              "      <th>Arima</th>\n",
              "      <td>[1.5295954726681689]</td>\n",
              "      <td>[3.8187748356870785]</td>\n",
              "      <td>[4.994953684383751]</td>\n",
              "      <td>[10.405843595598585]</td>\n",
              "      <td>[13.52952891509512]</td>\n",
              "    </tr>\n",
              "  </tbody>\n",
              "</table>\n",
              "</div>"
            ],
            "text/plain": [
              "                                 1m  ...                     W\n",
              "Elastic net      [6.38428395286416]  ...  [22.564461634331725]\n",
              "Random forest   [6.319696658781507]  ...   [25.27843993152649]\n",
              "Arima          [1.5295954726681689]  ...   [13.52952891509512]\n",
              "\n",
              "[3 rows x 5 columns]"
            ]
          },
          "metadata": {
            "tags": []
          },
          "execution_count": 62
        }
      ]
    }
  ]
}
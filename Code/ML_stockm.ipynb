{
 "cells": [
  {
   "cell_type": "code",
   "execution_count": 1,
   "metadata": {},
   "outputs": [],
   "source": [
    "import pandas as pd \n",
    "import numpy as np\n",
    "from pandas_datareader import data as pdr\n",
    "import yfinance as yf #yahoo finance stock data\n",
    "import datetime\n",
    "import matplotlib.pyplot as plt\n",
    "from math import sqrt\n",
    "\n",
    "from sklearn.linear_model import LinearRegression,ElasticNet\n",
    "from sklearn.ensemble import RandomForestRegressor\n",
    "\n",
    "stock=\"GOOG\"\n",
    "period=14"
   ]
  },
  {
   "cell_type": "code",
   "execution_count": 2,
   "metadata": {
    "tags": []
   },
   "outputs": [
    {
     "output_type": "stream",
     "name": "stdout",
     "text": [
      "[*********************100%***********************]  1 of 1 completed\n",
      "[*********************100%***********************]  1 of 1 completed\n",
      "[*********************100%***********************]  1 of 1 completed\n",
      "[*********************100%***********************]  1 of 1 completed\n",
      "[*********************100%***********************]  1 of 1 completed\n"
     ]
    }
   ],
   "source": [
    "min=yf.download(tickers=stock,period=\"3d\", interval=\"1m\")\n",
    "thirt_min=yf.download(tickers=stock,period=\"31d\", interval=\"30m\")\n",
    "hour=yf.download(tickers=stock,period=\"122d\", interval=\"1h\")\n",
    "daily=yf.download(tickers=stock,period=\"765d\", interval=\"1d\")\n",
    "week=yf.download(tickers=stock,period=\"3650d\", interval=\"1wk\")\n"
   ]
  },
  {
   "cell_type": "code",
   "execution_count": 3,
   "metadata": {},
   "outputs": [],
   "source": [
    "def Prepare_dataset(df):\n",
    "    from sklearn.model_selection import train_test_split\n",
    "\n",
    "    typ_price=(df.Close + df.High+df.Low)/3\n",
    "    mf=typ_price*df.Volume\n",
    "\n",
    "    pos_flow=[]\n",
    "    neg_flow=[]\n",
    "\n",
    "    for i in range(0,len(typ_price)):\n",
    "        if typ_price[i]>typ_price[i-1]:\n",
    "            pos_flow.append(mf[i-1])\n",
    "            neg_flow.append(0)\n",
    "        elif typ_price[i]<typ_price[i-1]:\n",
    "            pos_flow.append(0)\n",
    "            neg_flow.append(mf[i-1])\n",
    "        else:\n",
    "            pos_flow.append(0)\n",
    "            neg_flow.append(0)\n",
    "        \n",
    "    pos_mf=[]\n",
    "    neg_mf=[]\n",
    "\n",
    "    for i in range(period-1,len(pos_flow)):\n",
    "        pos_mf.append(sum(pos_flow[i+1-period:i]))\n",
    "\n",
    "    for i in range(period-1,len(neg_flow)):\n",
    "        neg_mf.append(sum(neg_flow[i+1-period:i]))\n",
    "\n",
    "    mf_ratio=np.array(pos_mf)/np.array(neg_mf)\n",
    "\n",
    "    mfi=100-100/(1+mf_ratio)\n",
    "    df=df.iloc[13:,:]\n",
    "\n",
    "    df[\"MFI\"]=mfi\n",
    "\n",
    "    y=df.iloc[:-1,:][\"Adj Close\"].shift(-1)\n",
    "    y.fillna(method='ffill', inplace=True)\n",
    "    X=df.iloc[:-1,:].fillna(method='ffill')\n",
    "\n",
    "    return train_test_split(X, y, test_size=0.4, random_state=0)\n",
    "\n",
    "def Rmse(y,y_pred):\n",
    "    return np.sqrt(((y_pred - y) ** 2).mean())"
   ]
  },
  {
   "cell_type": "code",
   "execution_count": 4,
   "metadata": {},
   "outputs": [],
   "source": [
    "datasets={}\n",
    "datasets[\"1m\"]=Prepare_dataset(min)\n",
    "datasets[\"30m\"]=Prepare_dataset(thirt_min)\n",
    "datasets[\"1h\"]=Prepare_dataset(hour)\n",
    "datasets[\"D\"]=Prepare_dataset(daily)\n",
    "datasets[\"W\"]=Prepare_dataset(week)"
   ]
  },
  {
   "cell_type": "code",
   "execution_count": 5,
   "metadata": {},
   "outputs": [],
   "source": [
    "from sklearn.linear_model import LinearRegression"
   ]
  },
  {
   "cell_type": "code",
   "execution_count": 6,
   "metadata": {},
   "outputs": [],
   "source": [
    "result=pd.DataFrame(columns=[\"1m\",\"30m\",\"1h\",\"D\",\"W\"])\n",
    "\n",
    "for key in datasets:\n",
    "    X_train=datasets[key][0]\n",
    "    X_test=datasets[key][1]\n",
    "    y_train=datasets[key][2]\n",
    "    y_test=datasets[key][3]\n",
    "\n",
    "    elastic=ElasticNet().fit(X_train, y_train)\n",
    "    elastic_preds=elastic.predict(X_test)\n",
    "\n",
    "    result.loc[\"Elastic net\",key]=[Rmse(y_test,elastic_preds)]\n",
    "\n",
    "    rf=RandomForestRegressor(n_estimators=100,max_depth=12,random_state=0).fit(X_train, y_train)\n",
    "    rf_preds=rf.predict(X_test)\n",
    "\n",
    "    result.loc[\"Random forest\",key]=[Rmse(y_test,rf_preds)]\n"
   ]
  },
  {
   "cell_type": "code",
   "execution_count": 7,
   "metadata": {},
   "outputs": [
    {
     "output_type": "execute_result",
     "data": {
      "text/plain": [
       "                                 1m                  30m  \\\n",
       "Elastic net    [1.1562700404233666]  [7.940113179513342]   \n",
       "Random forest  [1.3052370753951565]  [8.495361937752566]   \n",
       "\n",
       "                                 1h                     D  \\\n",
       "Elastic net     [8.284515424541974]    [24.9314827888373]   \n",
       "Random forest  [10.921542144373083]  [26.444181176480715]   \n",
       "\n",
       "                                  W  \n",
       "Elastic net    [26.668517552184422]  \n",
       "Random forest  [28.439515571050205]  "
      ],
      "text/html": "<div>\n<style scoped>\n    .dataframe tbody tr th:only-of-type {\n        vertical-align: middle;\n    }\n\n    .dataframe tbody tr th {\n        vertical-align: top;\n    }\n\n    .dataframe thead th {\n        text-align: right;\n    }\n</style>\n<table border=\"1\" class=\"dataframe\">\n  <thead>\n    <tr style=\"text-align: right;\">\n      <th></th>\n      <th>1m</th>\n      <th>30m</th>\n      <th>1h</th>\n      <th>D</th>\n      <th>W</th>\n    </tr>\n  </thead>\n  <tbody>\n    <tr>\n      <th>Elastic net</th>\n      <td>[1.1562700404233666]</td>\n      <td>[7.940113179513342]</td>\n      <td>[8.284515424541974]</td>\n      <td>[24.9314827888373]</td>\n      <td>[26.668517552184422]</td>\n    </tr>\n    <tr>\n      <th>Random forest</th>\n      <td>[1.3052370753951565]</td>\n      <td>[8.495361937752566]</td>\n      <td>[10.921542144373083]</td>\n      <td>[26.444181176480715]</td>\n      <td>[28.439515571050205]</td>\n    </tr>\n  </tbody>\n</table>\n</div>"
     },
     "metadata": {},
     "execution_count": 7
    }
   ],
   "source": [
    "result"
   ]
  },
  {
   "cell_type": "code",
   "execution_count": null,
   "metadata": {},
   "outputs": [],
   "source": []
  }
 ],
 "metadata": {
  "kernelspec": {
   "name": "Python 3.8.0 64-bit",
   "display_name": "Python 3.8.0 64-bit",
   "metadata": {
    "interpreter": {
     "hash": "4ce0e62306dd6a5716965d4519ada776f947e6dfc145b604b11307c10277ef29"
    }
   }
  },
  "language_info": {
   "codemirror_mode": {
    "name": "ipython",
    "version": 3
   },
   "file_extension": ".py",
   "mimetype": "text/x-python",
   "name": "python",
   "nbconvert_exporter": "python",
   "pygments_lexer": "ipython3",
   "version": "3.8.0-final"
  }
 },
 "nbformat": 4,
 "nbformat_minor": 4
}
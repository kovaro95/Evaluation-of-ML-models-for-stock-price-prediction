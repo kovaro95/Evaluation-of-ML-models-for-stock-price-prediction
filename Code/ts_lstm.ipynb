{
 "cells": [
  {
   "cell_type": "code",
   "execution_count": 123,
   "metadata": {},
   "outputs": [],
   "source": [
    "import os\r\n",
    "import datetime as dt\r\n",
    "\r\n",
    "import IPython\r\n",
    "import IPython.display\r\n",
    "\r\n",
    "import matplotlib as mpl\r\n",
    "import matplotlib.pyplot as plt\r\n",
    "\r\n",
    "import numpy as np\r\n",
    "import pandas as pd\r\n",
    "\r\n",
    "import quandl\r\n",
    "API='ev8wgXS3LGQgZuHp6Bvm'\r\n",
    "quandl.ApiConfig.api_key = API\r\n",
    "\r\n",
    "import tensorflow as tf\r\n",
    "from tensorflow import keras\r\n",
    "from keras.callbacks import EarlyStopping, ReduceLROnPlateau, ModelCheckpoint, TensorBoard\r\n",
    "\r\n",
    "from keras.models import Model\r\n",
    "from keras.models import Sequential\r\n",
    "from keras import optimizers\r\n",
    "from keras.layers import Activation,Dropout,Dense,LSTM,BatchNormalization,Input,Bidirectional\r\n",
    "from sklearn.preprocessing import MinMaxScaler, StandardScaler, RobustScaler\r\n",
    "\r\n",
    "RANDOM_SEED=42\r\n",
    "np.random.seed(RANDOM_SEED)\r\n",
    "tf.random.set_seed(RANDOM_SEED)"
   ]
  },
  {
   "cell_type": "code",
   "execution_count": 97,
   "metadata": {},
   "outputs": [
    {
     "data": {
      "text/plain": "<AxesSubplot:xlabel='Date'>"
     },
     "execution_count": 97,
     "metadata": {},
     "output_type": "execute_result"
    },
    {
     "data": {
      "image/png": "[encoded data removed]",
      "text/plain": "<Figure size 432x288 with 1 Axes>"
     },
     "metadata": {
      "needs_background": "light"
     },
     "output_type": "display_data"
    }
   ],
   "source": [
    "stock=quandl.get('WIKI/MSFT',start_date=\"2010-01-01\",end_date=\"2018-01-01\")\r\n",
    "stock[\"Close\"].plot()"
   ]
  },
  {
   "cell_type": "code",
   "execution_count": 195,
   "metadata": {},
   "outputs": [],
   "source": [
    "class Ts_dataset():\r\n",
    "  def __init__(self, data, target='Close',scale=True,shift=1,window=20,test_size=0.2):\r\n",
    "    #Store the raw data.    \r\n",
    "    self.split=int(len(data)*(1-test_size))\r\n",
    "    \r\n",
    "    #self.cols=list(data.columns)\r\n",
    "    #self.target_col=data.columns.get_loc(target)\r\n",
    "    self.shift = shift\r\n",
    "    self.window=window\r\n",
    "      \r\n",
    "    self.train_dates=data.iloc[:self.split].index\r\n",
    "    self.test_dates=data.iloc[self.split:].index\r\n",
    "       \r\n",
    "    self.Train = np.array(data.iloc[:self.split]).reshape(-1,1)\r\n",
    "    self.Test = np.array(data.iloc[self.split:]).reshape(-1,1)\r\n",
    "\r\n",
    "    if scale==True:\r\n",
    "      self.Scaler=MinMaxScaler(feature_range = (0, 1))\r\n",
    "      self.Scaler=self.Scaler.fit(self.Train)\r\n",
    "    \r\n",
    "      self.Train=self.Scaler.transform(self.Train)\r\n",
    "      self.Test=self.Scaler.transform(self.Test)\r\n",
    "    else:\r\n",
    "      self.Train=np.array(self.Train)\r\n",
    "      self.Test=np.array(self.Test)  \r\n",
    "     \r\n",
    "    self.X_train=tf.convert_to_tensor(np.array([self.Train[i-self.window:i] for i in range(self.window,len(self.Train)-self.shift+1)]))\r\n",
    "    self.X_test=tf.convert_to_tensor(np.array([self.Test[i-self.window:i] for i in range(self.window,len(self.Test)-self.shift+1)]))\r\n",
    "    \r\n",
    "    self.y_train=np.array([self.Train[i+self.shift-1:i+self.shift] for i in range(self.window,len(self.Train)-self.shift+1)])\r\n",
    "    self.y_test=np.array([self.Test[i+self.shift-1:i+self.shift]  for i in range(self.window,len(self.Test)-self.shift+1)])\r\n",
    "    \r\n",
    "    print(self.__repr__())\r\n",
    "\r\n",
    "  def __repr__(self):\r\n",
    "    return '\\n'.join([\r\n",
    "    f'Original train and test{self.Train.shape,self.Test.shape}',\r\n",
    "    f'X train size {self.X_train.shape}',\r\n",
    "    f'Y train size: {self.y_train.shape}',\r\n",
    "    f'X test size: {self.X_test.shape}',\r\n",
    "    f'X test size: {self.y_test.shape}'])"
   ]
  },
  {
   "cell_type": "code",
   "execution_count": 198,
   "metadata": {},
   "outputs": [
    {
     "name": "stdout",
     "output_type": "stream",
     "text": [
      "Original train and test((1609, 1), (403, 1))\n",
      "X train size (1595, 14, 1)\n",
      "Y train size: (1595, 1, 1)\n",
      "X test size: (389, 14, 1)\n",
      "X test size: (389, 1, 1)\n"
     ]
    }
   ],
   "source": [
    "dataset=Ts_dataset(stock.iloc[:,3],'Close',window=14)"
   ]
  },
  {
   "cell_type": "code",
   "execution_count": 212,
   "metadata": {},
   "outputs": [],
   "source": [
    "def LSTM_model(input_shape):\r\n",
    "    lstm_model = Sequential()\r\n",
    "    lstm_model.add(LSTM(50, return_sequences=True,input_shape=input_shape))\r\n",
    "    lstm_model.add(LSTM(50, return_sequences=True))\r\n",
    "    lstm_model.add(LSTM(50, return_sequences=True))\r\n",
    "    lstm_model.add(LSTM(50))\r\n",
    "    lstm_model.add(Dense(1,activation='linear'))\r\n",
    "        \r\n",
    "    \r\n",
    "    defined_metrics = [tf.keras.metrics.MeanSquaredError(name='MSE')]\r\n",
    "    \r\n",
    "    # Compile the model\r\n",
    "    optimizer = tf.keras.optimizers.Adam(learning_rate=1e-1)\r\n",
    "    lstm_model.compile(optimizer=optimizer, loss='mae',metrics=defined_metrics)\r\n",
    "    \r\n",
    "    return lstm_model"
   ]
  },
  {
   "cell_type": "code",
   "execution_count": 213,
   "metadata": {},
   "outputs": [
    {
     "name": "stdout",
     "output_type": "stream",
     "text": [
      "Epoch 1/30\n",
      "40/40 [==============================] - 25s 393ms/step - loss: 0.6968 - MSE: 1.7469 - val_loss: 0.1891 - val_MSE: 0.0530\n",
      "\n",
      "Epoch 00001: val_loss improved from inf to 0.18911, saving model to weights.h5\n",
      "Epoch 2/30\n",
      "40/40 [==============================] - 1s 21ms/step - loss: 0.4345 - MSE: 0.2418 - val_loss: 0.1330 - val_MSE: 0.0264\n",
      "\n",
      "Epoch 00002: val_loss improved from 0.18911 to 0.13304, saving model to weights.h5\n",
      "Epoch 3/30\n",
      "40/40 [==============================] - 1s 30ms/step - loss: 0.2659 - MSE: 0.1025 - val_loss: 0.1210 - val_MSE: 0.0187\n",
      "\n",
      "Epoch 00003: val_loss improved from 0.13304 to 0.12097, saving model to weights.h5\n",
      "Epoch 4/30\n",
      "40/40 [==============================] - 1s 24ms/step - loss: 0.2614 - MSE: 0.1009 - val_loss: 0.1220 - val_MSE: 0.0187\n",
      "\n",
      "Epoch 00004: val_loss did not improve from 0.12097\n",
      "Epoch 5/30\n",
      "40/40 [==============================] - 1s 26ms/step - loss: 0.3092 - MSE: 0.1459 - val_loss: 0.1210 - val_MSE: 0.0186\n",
      "\n",
      "Epoch 00005: val_loss did not improve from 0.12097\n",
      "Epoch 6/30\n",
      "40/40 [==============================] - 1s 28ms/step - loss: 0.2516 - MSE: 0.0985 - val_loss: 0.1279 - val_MSE: 0.0220\n",
      "\n",
      "Epoch 00006: val_loss did not improve from 0.12097\n",
      "Epoch 7/30\n",
      "40/40 [==============================] - 1s 29ms/step - loss: 0.3131 - MSE: 0.1427 - val_loss: 0.1324 - val_MSE: 0.0245\n",
      "\n",
      "Epoch 00007: val_loss did not improve from 0.12097\n",
      "Epoch 8/30\n",
      "40/40 [==============================] - 1s 22ms/step - loss: 0.3300 - MSE: 0.1527 - val_loss: 0.1622 - val_MSE: 0.0401\n",
      "\n",
      "Epoch 00008: val_loss did not improve from 0.12097\n",
      "Epoch 9/30\n",
      "40/40 [==============================] - 1s 21ms/step - loss: 0.3744 - MSE: 0.1943 - val_loss: 0.1488 - val_MSE: 0.0336\n",
      "\n",
      "Epoch 00009: val_loss did not improve from 0.12097\n",
      "Epoch 10/30\n",
      "40/40 [==============================] - 1s 24ms/step - loss: 0.2510 - MSE: 0.0885 - val_loss: 0.1206 - val_MSE: 0.0188\n",
      "\n",
      "Epoch 00010: val_loss improved from 0.12097 to 0.12064, saving model to weights.h5\n",
      "Epoch 11/30\n",
      "40/40 [==============================] - 1s 23ms/step - loss: 0.2528 - MSE: 0.0980 - val_loss: 0.1389 - val_MSE: 0.0281\n",
      "\n",
      "Epoch 00011: val_loss did not improve from 0.12064\n",
      "Epoch 12/30\n",
      "40/40 [==============================] - 1s 26ms/step - loss: 0.3063 - MSE: 0.1478 - val_loss: 0.1211 - val_MSE: 0.0206\n",
      "\n",
      "Epoch 00012: val_loss did not improve from 0.12064\n",
      "Epoch 13/30\n",
      "40/40 [==============================] - 1s 24ms/step - loss: 0.2658 - MSE: 0.1013 - val_loss: 0.1218 - val_MSE: 0.0187\n",
      "\n",
      "Epoch 00013: val_loss did not improve from 0.12064\n",
      "Epoch 14/30\n",
      "40/40 [==============================] - 1s 23ms/step - loss: 0.2754 - MSE: 0.1123 - val_loss: 0.1228 - val_MSE: 0.0190\n",
      "\n",
      "Epoch 00014: val_loss did not improve from 0.12064\n",
      "Epoch 15/30\n",
      "40/40 [==============================] - 1s 20ms/step - loss: 0.3383 - MSE: 0.1481 - val_loss: 0.1202 - val_MSE: 0.0194\n",
      "\n",
      "Epoch 00015: val_loss improved from 0.12064 to 0.12024, saving model to weights.h5\n",
      "Epoch 16/30\n",
      "40/40 [==============================] - 1s 26ms/step - loss: 0.2986 - MSE: 0.1336 - val_loss: 0.1210 - val_MSE: 0.0206\n",
      "\n",
      "Epoch 00016: val_loss did not improve from 0.12024\n",
      "Epoch 17/30\n",
      "40/40 [==============================] - 2s 39ms/step - loss: 0.2650 - MSE: 0.1006 - val_loss: 0.1206 - val_MSE: 0.0188\n",
      "\n",
      "Epoch 00017: val_loss did not improve from 0.12024\n",
      "Epoch 18/30\n",
      "40/40 [==============================] - 1s 33ms/step - loss: 0.2474 - MSE: 0.0957 - val_loss: 0.1321 - val_MSE: 0.0244\n",
      "\n",
      "Epoch 00018: val_loss did not improve from 0.12024\n",
      "Epoch 19/30\n",
      "40/40 [==============================] - 1s 33ms/step - loss: 0.3010 - MSE: 0.1413 - val_loss: 0.1251 - val_MSE: 0.0203\n",
      "\n",
      "Epoch 00019: val_loss did not improve from 0.12024\n",
      "Epoch 20/30\n",
      "40/40 [==============================] - 1s 31ms/step - loss: 0.3439 - MSE: 0.1554 - val_loss: 0.1207 - val_MSE: 0.0203\n",
      "\n",
      "Epoch 00020: val_loss did not improve from 0.12024\n",
      "Epoch 21/30\n",
      "40/40 [==============================] - 1s 25ms/step - loss: 0.3092 - MSE: 0.1329 - val_loss: 0.1228 - val_MSE: 0.0191\n",
      "\n",
      "Epoch 00021: val_loss did not improve from 0.12024\n",
      "Epoch 22/30\n",
      "40/40 [==============================] - 1s 22ms/step - loss: 0.2746 - MSE: 0.1137 - val_loss: 0.1209 - val_MSE: 0.0187\n",
      "\n",
      "Epoch 00022: val_loss did not improve from 0.12024\n",
      "Epoch 23/30\n",
      "40/40 [==============================] - 1s 23ms/step - loss: 0.2765 - MSE: 0.1143 - val_loss: 0.1209 - val_MSE: 0.0187\n",
      "\n",
      "Epoch 00023: val_loss did not improve from 0.12024\n",
      "Epoch 24/30\n",
      "40/40 [==============================] - 1s 21ms/step - loss: 0.2534 - MSE: 0.0984 - val_loss: 0.1479 - val_MSE: 0.0327\n",
      "\n",
      "Epoch 00024: val_loss did not improve from 0.12024\n",
      "Epoch 25/30\n",
      "40/40 [==============================] - 1s 25ms/step - loss: 0.4306 - MSE: 0.2498 - val_loss: 0.1202 - val_MSE: 0.0197\n",
      "\n",
      "Epoch 00025: ReduceLROnPlateau reducing learning rate to 0.05000000074505806.\n",
      "\n",
      "Epoch 00025: val_loss did not improve from 0.12024\n",
      "Epoch 00025: early stopping\n"
     ]
    },
    {
     "data": {
      "text/plain": "<tensorflow.python.keras.callbacks.History at 0x172bb190c10>"
     },
     "execution_count": 213,
     "metadata": {},
     "output_type": "execute_result"
    }
   ],
   "source": [
    "keras.backend.clear_session()\r\n",
    "normal_lstm=LSTM_model(input_shape=(dataset.window,dataset.X_train.shape[2]))\r\n",
    "\r\n",
    "es=EarlyStopping(monitor='val_loss',min_delta=1e-10,patience=10,verbose=1)\r\n",
    "rlr=ReduceLROnPlateau(monitor='val_loss',factor=0.5,patience=10,verbose=1)\r\n",
    "mcp=ModelCheckpoint(filepath='weights.h5',monitor='val_loss',verbose=1,save_best_only=True,save_weights_only=True)\r\n",
    "tb=TensorBoard('logs')\r\n",
    "\r\n",
    "normal_lstm.fit(dataset.X_train,dataset.y_train,\r\n",
    "                epochs=30,\r\n",
    "                batch_size=32,\r\n",
    "                shuffle=False,\r\n",
    "                validation_split=0.2,\r\n",
    "                callbacks=[es,rlr,mcp,tb])"
   ]
  },
  {
   "cell_type": "code",
   "execution_count": 235,
   "metadata": {},
   "outputs": [
    {
     "data": {
      "text/plain": "<tf.Tensor: shape=(389, 14, 1), dtype=float64, numpy=\narray([[[0.8679189 ],\n        [0.86106142],\n        [0.87388193],\n        ...,\n        [0.84883721],\n        [0.80888491],\n        [0.79964222]],\n\n       [[0.86106142],\n        [0.87388193],\n        [0.89415623],\n        ...,\n        [0.80888491],\n        [0.79964222],\n        [0.7954681 ]],\n\n       [[0.87388193],\n        [0.89415623],\n        [0.88968396],\n        ...,\n        [0.79964222],\n        [0.7954681 ],\n        [0.8163387 ]],\n\n       ...,\n\n       [[1.78205128],\n        [1.77340489],\n        [1.82319618],\n        ...,\n        [1.86314848],\n        [1.86344663],\n        [1.86016696]],\n\n       [[1.77340489],\n        [1.82319618],\n        [1.85509839],\n        ...,\n        [1.86344663],\n        [1.86016696],\n        [1.86940966]],\n\n       [[1.82319618],\n        [1.85509839],\n        [1.86553369],\n        ...,\n        [1.86016696],\n        [1.86940966],\n        [1.86970781]]])>"
     },
     "execution_count": 235,
     "metadata": {},
     "output_type": "execute_result"
    }
   ],
   "source": [
    "dataset.X_test"
   ]
  },
  {
   "cell_type": "code",
   "execution_count": 223,
   "metadata": {},
   "outputs": [],
   "source": [
    "preds=normal_lstm.predict(dataset.X_test)\r\n"
   ]
  },
  {
   "cell_type": "code",
   "execution_count": 224,
   "metadata": {},
   "outputs": [],
   "source": [
    "preds=dataset.Scaler.inverse_transform(preds)"
   ]
  },
  {
   "cell_type": "code",
   "execution_count": 228,
   "metadata": {},
   "outputs": [
    {
     "data": {
      "text/plain": "(389, 1)"
     },
     "execution_count": 228,
     "metadata": {},
     "output_type": "execute_result"
    }
   ],
   "source": [
    "preds.shape"
   ]
  },
  {
   "cell_type": "code",
   "execution_count": 226,
   "metadata": {},
   "outputs": [
    {
     "data": {
      "text/plain": "[<matplotlib.lines.Line2D at 0x172c8183160>]"
     },
     "execution_count": 226,
     "metadata": {},
     "output_type": "execute_result"
    },
    {
     "data": {
      "image/png": "[encoded data removed]",
      "text/plain": "<Figure size 432x288 with 1 Axes>"
     },
     "metadata": {
      "needs_background": "light"
     },
     "output_type": "display_data"
    }
   ],
   "source": [
    "plt.plot(dataset.test_dates[:-14],preds)"
   ]
  },
  {
   "cell_type": "code",
   "execution_count": null,
   "metadata": {},
   "outputs": [],
   "source": []
  },
  {
   "cell_type": "code",
   "execution_count": null,
   "metadata": {},
   "outputs": [
    {
     "name": "stdout",
     "output_type": "stream",
     "text": [
      "Original train and test((1609, 12), (403, 12))\n",
      "X train size (1589, 20, 12)\n",
      "Y train size: (1589, 1)\n",
      "X test size: (383, 20, 12)\n",
      "X test size: (383, 1)\n"
     ]
    }
   ],
   "source": [
    "test=Dataset"
   ]
  },
  {
   "cell_type": "code",
   "execution_count": 229,
   "metadata": {},
   "outputs": [],
   "source": [
    "import numpy as np\r\n",
    "import matplotlib.pyplot as plt\r\n",
    "import pandas as pd\r\n",
    "\r\n",
    "# Importing the training set\r\n",
    "dataset_train = stock\r\n",
    "training_set=stock.iloc[:(int(len(stock)*0.8)),3:4].values"
   ]
  },
  {
   "cell_type": "code",
   "execution_count": 82,
   "metadata": {},
   "outputs": [
    {
     "data": {
      "text/plain": "((403, 12), (2012, 12))"
     },
     "execution_count": 82,
     "metadata": {},
     "output_type": "execute_result"
    }
   ],
   "source": [
    "dataset_test.shape,dataset_train.shape"
   ]
  },
  {
   "cell_type": "code",
   "execution_count": 230,
   "metadata": {},
   "outputs": [],
   "source": [
    "# Feature Scaling\r\n",
    "from sklearn.preprocessing import MinMaxScaler\r\n",
    "sc = MinMaxScaler(feature_range = (0, 1))\r\n",
    "training_set_scaled = sc.fit_transform(training_set)\r\n",
    "\r\n",
    "# Creating a data structure with 60 timesteps and 1 output\r\n",
    "X_train = []\r\n",
    "y_train = []\r\n",
    "for i in range(60, 1258):\r\n",
    "    X_train.append(training_set_scaled[i-60:i, 0])\r\n",
    "    y_train.append(training_set_scaled[i, 0])\r\n",
    "X_train, y_train = np.array(X_train), np.array(y_train)\r\n",
    "\r\n",
    "# Reshaping\r\n",
    "X_train = np.reshape(X_train, (X_train.shape[0], X_train.shape[1], 1))"
   ]
  },
  {
   "cell_type": "code",
   "execution_count": 231,
   "metadata": {},
   "outputs": [
    {
     "data": {
      "text/plain": "(1198, 60, 1)"
     },
     "execution_count": 231,
     "metadata": {},
     "output_type": "execute_result"
    }
   ],
   "source": [
    "X_train.shape"
   ]
  },
  {
   "cell_type": "code",
   "execution_count": 232,
   "metadata": {},
   "outputs": [
    {
     "name": "stdout",
     "output_type": "stream",
     "text": [
      "Epoch 1/100\n",
      "38/38 [==============================] - 12s 65ms/step - loss: 0.0328\n",
      "Epoch 2/100\n",
      "38/38 [==============================] - 3s 72ms/step - loss: 0.0029\n",
      "Epoch 3/100\n",
      "38/38 [==============================] - 3s 75ms/step - loss: 0.0028\n",
      "Epoch 4/100\n",
      "38/38 [==============================] - 3s 72ms/step - loss: 0.0032\n",
      "Epoch 5/100\n",
      "38/38 [==============================] - 3s 77ms/step - loss: 0.0036\n",
      "Epoch 6/100\n",
      "38/38 [==============================] - 4s 92ms/step - loss: 0.0021\n",
      "Epoch 7/100\n",
      "38/38 [==============================] - 3s 79ms/step - loss: 0.0021\n",
      "Epoch 8/100\n",
      "38/38 [==============================] - 3s 82ms/step - loss: 0.0021\n",
      "Epoch 9/100\n",
      "38/38 [==============================] - 3s 90ms/step - loss: 0.0023\n",
      "Epoch 10/100\n",
      "38/38 [==============================] - 3s 72ms/step - loss: 0.0021\n",
      "Epoch 11/100\n",
      "38/38 [==============================] - 3s 74ms/step - loss: 0.0024\n",
      "Epoch 12/100\n",
      "38/38 [==============================] - 3s 73ms/step - loss: 0.0022\n",
      "Epoch 13/100\n",
      "38/38 [==============================] - 3s 72ms/step - loss: 0.0020\n",
      "Epoch 14/100\n",
      "38/38 [==============================] - 3s 71ms/step - loss: 0.0019\n",
      "Epoch 15/100\n",
      "38/38 [==============================] - 3s 74ms/step - loss: 0.0020\n",
      "Epoch 16/100\n",
      "38/38 [==============================] - 3s 90ms/step - loss: 0.0019\n",
      "Epoch 17/100\n",
      "38/38 [==============================] - 4s 97ms/step - loss: 0.0019\n",
      "Epoch 18/100\n",
      "38/38 [==============================] - 4s 98ms/step - loss: 0.0014\n",
      "Epoch 19/100\n",
      "38/38 [==============================] - 3s 80ms/step - loss: 0.0015\n",
      "Epoch 20/100\n",
      "38/38 [==============================] - 3s 75ms/step - loss: 0.0016\n",
      "Epoch 21/100\n",
      "38/38 [==============================] - 3s 82ms/step - loss: 0.0020\n",
      "Epoch 22/100\n",
      "38/38 [==============================] - 3s 73ms/step - loss: 0.0017\n",
      "Epoch 23/100\n",
      "38/38 [==============================] - 3s 74ms/step - loss: 0.0017\n",
      "Epoch 24/100\n",
      "38/38 [==============================] - 3s 78ms/step - loss: 0.0016\n",
      "Epoch 25/100\n",
      "38/38 [==============================] - 3s 75ms/step - loss: 0.0014\n",
      "Epoch 26/100\n",
      "38/38 [==============================] - 3s 76ms/step - loss: 0.0014\n",
      "Epoch 27/100\n",
      "38/38 [==============================] - 3s 74ms/step - loss: 0.0015\n",
      "Epoch 28/100\n",
      "38/38 [==============================] - 4s 105ms/step - loss: 0.0015\n",
      "Epoch 29/100\n",
      "38/38 [==============================] - 3s 89ms/step - loss: 0.0015\n",
      "Epoch 30/100\n",
      "38/38 [==============================] - 3s 80ms/step - loss: 0.0014\n",
      "Epoch 31/100\n",
      "38/38 [==============================] - 3s 85ms/step - loss: 0.0013\n",
      "Epoch 32/100\n",
      "38/38 [==============================] - 3s 75ms/step - loss: 0.0014\n",
      "Epoch 33/100\n",
      "38/38 [==============================] - 3s 74ms/step - loss: 0.0015\n",
      "Epoch 34/100\n",
      "38/38 [==============================] - 3s 77ms/step - loss: 0.0013\n",
      "Epoch 35/100\n",
      "38/38 [==============================] - 3s 78ms/step - loss: 0.0012\n",
      "Epoch 36/100\n",
      "38/38 [==============================] - 3s 80ms/step - loss: 0.0013\n",
      "Epoch 37/100\n",
      "38/38 [==============================] - 3s 85ms/step - loss: 0.0012\n",
      "Epoch 38/100\n",
      "38/38 [==============================] - 4s 98ms/step - loss: 0.0012\n",
      "Epoch 39/100\n",
      "38/38 [==============================] - 3s 84ms/step - loss: 0.0013\n",
      "Epoch 40/100\n",
      "38/38 [==============================] - 3s 79ms/step - loss: 0.0013\n",
      "Epoch 41/100\n",
      "24/38 [=================>............] - ETA: 1s - loss: 0.0010"
     ]
    },
    {
     "ename": "KeyboardInterrupt",
     "evalue": "",
     "output_type": "error",
     "traceback": [
      "\u001b[1;31m---------------------------------------------------------------------------\u001b[0m",
      "\u001b[1;31mKeyboardInterrupt\u001b[0m                         Traceback (most recent call last)",
      "\u001b[1;32m<ipython-input-232-638a7b6ef1ab>\u001b[0m in \u001b[0;36m<module>\u001b[1;34m\u001b[0m\n\u001b[0;32m     31\u001b[0m \u001b[1;33m\u001b[0m\u001b[0m\n\u001b[0;32m     32\u001b[0m \u001b[1;31m# Fitting the RNN to the Training set\u001b[0m\u001b[1;33m\u001b[0m\u001b[1;33m\u001b[0m\u001b[1;33m\u001b[0m\u001b[0m\n\u001b[1;32m---> 33\u001b[1;33m \u001b[0mregressor\u001b[0m\u001b[1;33m.\u001b[0m\u001b[0mfit\u001b[0m\u001b[1;33m(\u001b[0m\u001b[0mX_train\u001b[0m\u001b[1;33m,\u001b[0m \u001b[0my_train\u001b[0m\u001b[1;33m,\u001b[0m \u001b[0mepochs\u001b[0m \u001b[1;33m=\u001b[0m \u001b[1;36m100\u001b[0m\u001b[1;33m,\u001b[0m \u001b[0mbatch_size\u001b[0m \u001b[1;33m=\u001b[0m \u001b[1;36m32\u001b[0m\u001b[1;33m)\u001b[0m\u001b[1;33m\u001b[0m\u001b[1;33m\u001b[0m\u001b[0m\n\u001b[0m\u001b[0;32m     34\u001b[0m \u001b[1;33m\u001b[0m\u001b[0m\n\u001b[0;32m     35\u001b[0m \u001b[1;33m\u001b[0m\u001b[0m\n",
      "\u001b[1;32m~\\AppData\\Roaming\\Python\\Python38\\site-packages\\tensorflow\\python\\keras\\engine\\training.py\u001b[0m in \u001b[0;36mfit\u001b[1;34m(self, x, y, batch_size, epochs, verbose, callbacks, validation_split, validation_data, shuffle, class_weight, sample_weight, initial_epoch, steps_per_epoch, validation_steps, validation_batch_size, validation_freq, max_queue_size, workers, use_multiprocessing)\u001b[0m\n\u001b[0;32m   1098\u001b[0m                 _r=1):\n\u001b[0;32m   1099\u001b[0m               \u001b[0mcallbacks\u001b[0m\u001b[1;33m.\u001b[0m\u001b[0mon_train_batch_begin\u001b[0m\u001b[1;33m(\u001b[0m\u001b[0mstep\u001b[0m\u001b[1;33m)\u001b[0m\u001b[1;33m\u001b[0m\u001b[1;33m\u001b[0m\u001b[0m\n\u001b[1;32m-> 1100\u001b[1;33m               \u001b[0mtmp_logs\u001b[0m \u001b[1;33m=\u001b[0m \u001b[0mself\u001b[0m\u001b[1;33m.\u001b[0m\u001b[0mtrain_function\u001b[0m\u001b[1;33m(\u001b[0m\u001b[0miterator\u001b[0m\u001b[1;33m)\u001b[0m\u001b[1;33m\u001b[0m\u001b[1;33m\u001b[0m\u001b[0m\n\u001b[0m\u001b[0;32m   1101\u001b[0m               \u001b[1;32mif\u001b[0m \u001b[0mdata_handler\u001b[0m\u001b[1;33m.\u001b[0m\u001b[0mshould_sync\u001b[0m\u001b[1;33m:\u001b[0m\u001b[1;33m\u001b[0m\u001b[1;33m\u001b[0m\u001b[0m\n\u001b[0;32m   1102\u001b[0m                 \u001b[0mcontext\u001b[0m\u001b[1;33m.\u001b[0m\u001b[0masync_wait\u001b[0m\u001b[1;33m(\u001b[0m\u001b[1;33m)\u001b[0m\u001b[1;33m\u001b[0m\u001b[1;33m\u001b[0m\u001b[0m\n",
      "\u001b[1;32m~\\AppData\\Roaming\\Python\\Python38\\site-packages\\tensorflow\\python\\eager\\def_function.py\u001b[0m in \u001b[0;36m__call__\u001b[1;34m(self, *args, **kwds)\u001b[0m\n\u001b[0;32m    826\u001b[0m     \u001b[0mtracing_count\u001b[0m \u001b[1;33m=\u001b[0m \u001b[0mself\u001b[0m\u001b[1;33m.\u001b[0m\u001b[0mexperimental_get_tracing_count\u001b[0m\u001b[1;33m(\u001b[0m\u001b[1;33m)\u001b[0m\u001b[1;33m\u001b[0m\u001b[1;33m\u001b[0m\u001b[0m\n\u001b[0;32m    827\u001b[0m     \u001b[1;32mwith\u001b[0m \u001b[0mtrace\u001b[0m\u001b[1;33m.\u001b[0m\u001b[0mTrace\u001b[0m\u001b[1;33m(\u001b[0m\u001b[0mself\u001b[0m\u001b[1;33m.\u001b[0m\u001b[0m_name\u001b[0m\u001b[1;33m)\u001b[0m \u001b[1;32mas\u001b[0m \u001b[0mtm\u001b[0m\u001b[1;33m:\u001b[0m\u001b[1;33m\u001b[0m\u001b[1;33m\u001b[0m\u001b[0m\n\u001b[1;32m--> 828\u001b[1;33m       \u001b[0mresult\u001b[0m \u001b[1;33m=\u001b[0m \u001b[0mself\u001b[0m\u001b[1;33m.\u001b[0m\u001b[0m_call\u001b[0m\u001b[1;33m(\u001b[0m\u001b[1;33m*\u001b[0m\u001b[0margs\u001b[0m\u001b[1;33m,\u001b[0m \u001b[1;33m**\u001b[0m\u001b[0mkwds\u001b[0m\u001b[1;33m)\u001b[0m\u001b[1;33m\u001b[0m\u001b[1;33m\u001b[0m\u001b[0m\n\u001b[0m\u001b[0;32m    829\u001b[0m       \u001b[0mcompiler\u001b[0m \u001b[1;33m=\u001b[0m \u001b[1;34m\"xla\"\u001b[0m \u001b[1;32mif\u001b[0m \u001b[0mself\u001b[0m\u001b[1;33m.\u001b[0m\u001b[0m_experimental_compile\u001b[0m \u001b[1;32melse\u001b[0m \u001b[1;34m\"nonXla\"\u001b[0m\u001b[1;33m\u001b[0m\u001b[1;33m\u001b[0m\u001b[0m\n\u001b[0;32m    830\u001b[0m       \u001b[0mnew_tracing_count\u001b[0m \u001b[1;33m=\u001b[0m \u001b[0mself\u001b[0m\u001b[1;33m.\u001b[0m\u001b[0mexperimental_get_tracing_count\u001b[0m\u001b[1;33m(\u001b[0m\u001b[1;33m)\u001b[0m\u001b[1;33m\u001b[0m\u001b[1;33m\u001b[0m\u001b[0m\n",
      "\u001b[1;32m~\\AppData\\Roaming\\Python\\Python38\\site-packages\\tensorflow\\python\\eager\\def_function.py\u001b[0m in \u001b[0;36m_call\u001b[1;34m(self, *args, **kwds)\u001b[0m\n\u001b[0;32m    853\u001b[0m       \u001b[1;31m# In this case we have created variables on the first call, so we run the\u001b[0m\u001b[1;33m\u001b[0m\u001b[1;33m\u001b[0m\u001b[1;33m\u001b[0m\u001b[0m\n\u001b[0;32m    854\u001b[0m       \u001b[1;31m# defunned version which is guaranteed to never create variables.\u001b[0m\u001b[1;33m\u001b[0m\u001b[1;33m\u001b[0m\u001b[1;33m\u001b[0m\u001b[0m\n\u001b[1;32m--> 855\u001b[1;33m       \u001b[1;32mreturn\u001b[0m \u001b[0mself\u001b[0m\u001b[1;33m.\u001b[0m\u001b[0m_stateless_fn\u001b[0m\u001b[1;33m(\u001b[0m\u001b[1;33m*\u001b[0m\u001b[0margs\u001b[0m\u001b[1;33m,\u001b[0m \u001b[1;33m**\u001b[0m\u001b[0mkwds\u001b[0m\u001b[1;33m)\u001b[0m  \u001b[1;31m# pylint: disable=not-callable\u001b[0m\u001b[1;33m\u001b[0m\u001b[1;33m\u001b[0m\u001b[0m\n\u001b[0m\u001b[0;32m    856\u001b[0m     \u001b[1;32melif\u001b[0m \u001b[0mself\u001b[0m\u001b[1;33m.\u001b[0m\u001b[0m_stateful_fn\u001b[0m \u001b[1;32mis\u001b[0m \u001b[1;32mnot\u001b[0m \u001b[1;32mNone\u001b[0m\u001b[1;33m:\u001b[0m\u001b[1;33m\u001b[0m\u001b[1;33m\u001b[0m\u001b[0m\n\u001b[0;32m    857\u001b[0m       \u001b[1;31m# Release the lock early so that multiple threads can perform the call\u001b[0m\u001b[1;33m\u001b[0m\u001b[1;33m\u001b[0m\u001b[1;33m\u001b[0m\u001b[0m\n",
      "\u001b[1;32m~\\AppData\\Roaming\\Python\\Python38\\site-packages\\tensorflow\\python\\eager\\function.py\u001b[0m in \u001b[0;36m__call__\u001b[1;34m(self, *args, **kwargs)\u001b[0m\n\u001b[0;32m   2940\u001b[0m       (graph_function,\n\u001b[0;32m   2941\u001b[0m        filtered_flat_args) = self._maybe_define_function(args, kwargs)\n\u001b[1;32m-> 2942\u001b[1;33m     return graph_function._call_flat(\n\u001b[0m\u001b[0;32m   2943\u001b[0m         filtered_flat_args, captured_inputs=graph_function.captured_inputs)  # pylint: disable=protected-access\n\u001b[0;32m   2944\u001b[0m \u001b[1;33m\u001b[0m\u001b[0m\n",
      "\u001b[1;32m~\\AppData\\Roaming\\Python\\Python38\\site-packages\\tensorflow\\python\\eager\\function.py\u001b[0m in \u001b[0;36m_call_flat\u001b[1;34m(self, args, captured_inputs, cancellation_manager)\u001b[0m\n\u001b[0;32m   1916\u001b[0m         and executing_eagerly):\n\u001b[0;32m   1917\u001b[0m       \u001b[1;31m# No tape is watching; skip to running the function.\u001b[0m\u001b[1;33m\u001b[0m\u001b[1;33m\u001b[0m\u001b[1;33m\u001b[0m\u001b[0m\n\u001b[1;32m-> 1918\u001b[1;33m       return self._build_call_outputs(self._inference_function.call(\n\u001b[0m\u001b[0;32m   1919\u001b[0m           ctx, args, cancellation_manager=cancellation_manager))\n\u001b[0;32m   1920\u001b[0m     forward_backward = self._select_forward_and_backward_functions(\n",
      "\u001b[1;32m~\\AppData\\Roaming\\Python\\Python38\\site-packages\\tensorflow\\python\\eager\\function.py\u001b[0m in \u001b[0;36mcall\u001b[1;34m(self, ctx, args, cancellation_manager)\u001b[0m\n\u001b[0;32m    553\u001b[0m       \u001b[1;32mwith\u001b[0m \u001b[0m_InterpolateFunctionError\u001b[0m\u001b[1;33m(\u001b[0m\u001b[0mself\u001b[0m\u001b[1;33m)\u001b[0m\u001b[1;33m:\u001b[0m\u001b[1;33m\u001b[0m\u001b[1;33m\u001b[0m\u001b[0m\n\u001b[0;32m    554\u001b[0m         \u001b[1;32mif\u001b[0m \u001b[0mcancellation_manager\u001b[0m \u001b[1;32mis\u001b[0m \u001b[1;32mNone\u001b[0m\u001b[1;33m:\u001b[0m\u001b[1;33m\u001b[0m\u001b[1;33m\u001b[0m\u001b[0m\n\u001b[1;32m--> 555\u001b[1;33m           outputs = execute.execute(\n\u001b[0m\u001b[0;32m    556\u001b[0m               \u001b[0mstr\u001b[0m\u001b[1;33m(\u001b[0m\u001b[0mself\u001b[0m\u001b[1;33m.\u001b[0m\u001b[0msignature\u001b[0m\u001b[1;33m.\u001b[0m\u001b[0mname\u001b[0m\u001b[1;33m)\u001b[0m\u001b[1;33m,\u001b[0m\u001b[1;33m\u001b[0m\u001b[1;33m\u001b[0m\u001b[0m\n\u001b[0;32m    557\u001b[0m               \u001b[0mnum_outputs\u001b[0m\u001b[1;33m=\u001b[0m\u001b[0mself\u001b[0m\u001b[1;33m.\u001b[0m\u001b[0m_num_outputs\u001b[0m\u001b[1;33m,\u001b[0m\u001b[1;33m\u001b[0m\u001b[1;33m\u001b[0m\u001b[0m\n",
      "\u001b[1;32m~\\AppData\\Roaming\\Python\\Python38\\site-packages\\tensorflow\\python\\eager\\execute.py\u001b[0m in \u001b[0;36mquick_execute\u001b[1;34m(op_name, num_outputs, inputs, attrs, ctx, name)\u001b[0m\n\u001b[0;32m     57\u001b[0m   \u001b[1;32mtry\u001b[0m\u001b[1;33m:\u001b[0m\u001b[1;33m\u001b[0m\u001b[1;33m\u001b[0m\u001b[0m\n\u001b[0;32m     58\u001b[0m     \u001b[0mctx\u001b[0m\u001b[1;33m.\u001b[0m\u001b[0mensure_initialized\u001b[0m\u001b[1;33m(\u001b[0m\u001b[1;33m)\u001b[0m\u001b[1;33m\u001b[0m\u001b[1;33m\u001b[0m\u001b[0m\n\u001b[1;32m---> 59\u001b[1;33m     tensors = pywrap_tfe.TFE_Py_Execute(ctx._handle, device_name, op_name,\n\u001b[0m\u001b[0;32m     60\u001b[0m                                         inputs, attrs, num_outputs)\n\u001b[0;32m     61\u001b[0m   \u001b[1;32mexcept\u001b[0m \u001b[0mcore\u001b[0m\u001b[1;33m.\u001b[0m\u001b[0m_NotOkStatusException\u001b[0m \u001b[1;32mas\u001b[0m \u001b[0me\u001b[0m\u001b[1;33m:\u001b[0m\u001b[1;33m\u001b[0m\u001b[1;33m\u001b[0m\u001b[0m\n",
      "\u001b[1;31mKeyboardInterrupt\u001b[0m: "
     ]
    }
   ],
   "source": [
    "# Importing the Keras libraries and packages\r\n",
    "from keras.models import Sequential\r\n",
    "from keras.layers import Dense\r\n",
    "from keras.layers import LSTM\r\n",
    "from keras.layers import Dropout\r\n",
    "\r\n",
    "# Initialising the RNN\r\n",
    "regressor = Sequential()\r\n",
    "\r\n",
    "# Adding the first LSTM layer and some Dropout regularisation\r\n",
    "regressor.add(LSTM(units = 50, return_sequences = True, input_shape = (X_train.shape[1], 1)))\r\n",
    "regressor.add(Dropout(0.2))\r\n",
    "\r\n",
    "# Adding a second LSTM layer and some Dropout regularisation\r\n",
    "regressor.add(LSTM(units = 50, return_sequences = True))\r\n",
    "regressor.add(Dropout(0.2))\r\n",
    "\r\n",
    "# Adding a third LSTM layer and some Dropout regularisation\r\n",
    "regressor.add(LSTM(units = 50, return_sequences = True))\r\n",
    "regressor.add(Dropout(0.2))\r\n",
    "\r\n",
    "# Adding a fourth LSTM layer and some Dropout regularisation\r\n",
    "regressor.add(LSTM(units = 50))\r\n",
    "regressor.add(Dropout(0.2))\r\n",
    "\r\n",
    "# Adding the output layer\r\n",
    "regressor.add(Dense(units = 1))\r\n",
    "\r\n",
    "# Compiling the RNN\r\n",
    "regressor.compile(optimizer = 'adam', loss = 'mean_squared_error')\r\n",
    "\r\n",
    "# Fitting the RNN to the Training set\r\n",
    "regressor.fit(X_train, y_train, epochs = 100, batch_size = 32)\r\n",
    "\r\n",
    "\r\n",
    "\r\n",
    "# Part 3 - Making the predictions and visualising the results\r\n",
    "\r\n",
    "# Getting the real stock price of 2017\r\n"
   ]
  },
  {
   "cell_type": "code",
   "execution_count": 233,
   "metadata": {},
   "outputs": [
    {
     "data": {
      "text/plain": "(340, 60, 1)"
     },
     "execution_count": 233,
     "metadata": {},
     "output_type": "execute_result"
    }
   ],
   "source": [
    "dataset_test=stock.iloc[(int(len(stock)*0.8)):,:]\r\n",
    "real_stock_price = dataset_test.Close\r\n",
    "\r\n",
    "# Getting the predicted stock price of 2017\r\n",
    "dataset_total = pd.concat((dataset_train['Close'], dataset_test['Close']), axis = 0)\r\n",
    "inputs = dataset_total[len(dataset_total) - len(dataset_test) - 60:].values\r\n",
    "inputs = inputs.reshape(-1,1)\r\n",
    "inputs = sc.transform(inputs)\r\n",
    "X_test = []\r\n",
    "for i in range(60, 400):\r\n",
    "    X_test.append(inputs[i-60:i, 0])\r\n",
    "X_test = np.array(X_test)\r\n",
    "X_test = np.reshape(X_test, (X_test.shape[0], X_test.shape[1], 1))\r\n",
    "predicted_stock_price = regressor.predict(X_test)\r\n",
    "predicted_stock_price = sc.inverse_transform(predicted_stock_price)\r\n",
    "\r\n",
    "X_test.shape\r\n"
   ]
  },
  {
   "cell_type": "code",
   "execution_count": 234,
   "metadata": {},
   "outputs": [
    {
     "data": {
      "image/png": "[encoded data removed]",
      "text/plain": "<Figure size 432x288 with 1 Axes>"
     },
     "metadata": {
      "needs_background": "light"
     },
     "output_type": "display_data"
    }
   ],
   "source": [
    "# Visualising the results\r\n",
    "plt.plot(real_stock_price.values, color = 'red', label = 'Real Google Stock Price')\r\n",
    "plt.plot(predicted_stock_price, color = 'blue', label = 'Predicted Google Stock Price')\r\n",
    "plt.title('Google Stock Price Prediction')\r\n",
    "plt.xlabel('Time')\r\n",
    "plt.ylabel('Google Stock Price')\r\n",
    "plt.legend()\r\n",
    "plt.show()"
   ]
  },
  {
   "cell_type": "code",
   "execution_count": null,
   "metadata": {},
   "outputs": [],
   "source": []
  }
 ],
 "metadata": {
  "kernelspec": {
   "display_name": "Python 3.8.7 64-bit",
   "metadata": {
    "interpreter": {
     "hash": "95ab7303ed2746327945aa376054eddca8c4eca362915ff95db932dbe7e7ee41"
    }
   },
   "name": "python3"
  },
  "language_info": {
   "codemirror_mode": {
    "name": "ipython",
    "version": 3
   },
   "file_extension": ".py",
   "mimetype": "text/x-python",
   "name": "python",
   "nbconvert_exporter": "python",
   "pygments_lexer": "ipython3",
   "version": "3.8.7"
  },
  "orig_nbformat": 2
 },
 "nbformat": 4,
 "nbformat_minor": 2
}